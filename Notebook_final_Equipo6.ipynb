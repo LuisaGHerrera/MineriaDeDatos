{
  "nbformat": 4,
  "nbformat_minor": 0,
  "metadata": {
    "colab": {
      "name": "Notebook final_Equipo6.ipynb",
      "provenance": [],
      "collapsed_sections": [
        "e_y-86WOkZvP",
        "b2IobDweGXQM",
        "fhBcsHPAW0qW",
        "Ypx8rR3YOvVw"
      ],
      "include_colab_link": true
    },
    "kernelspec": {
      "name": "python3",
      "display_name": "Python 3"
    },
    "language_info": {
      "name": "python"
    }
  },
  "cells": [
    {
      "cell_type": "markdown",
      "metadata": {
        "id": "view-in-github",
        "colab_type": "text"
      },
      "source": [
        "<a href=\"https://colab.research.google.com/github/LuisaGHerrera/MineriaDeDatos/blob/main/Notebook_final_Equipo6.ipynb\" target=\"_parent\"><img src=\"https://colab.research.google.com/assets/colab-badge.svg\" alt=\"Open In Colab\"/></a>"
      ]
    },
    {
      "cell_type": "markdown",
      "metadata": {
        "id": "msEYQ2Lwpm4_"
      },
      "source": [
        "# **Notebook final**\n",
        "\n",
        "**Equipo** **6**; gpo: 01, *lunes*. \n",
        "\n",
        "Integrantes:\n",
        "\n",
        "* 1794593 Gutiérrez Herrera Luisa Fernanda.\n",
        "* 1796551 Sánchez Bracho Joss Alberth\n",
        "* 1847156 Montemayor Guerra Diego Marcelo\n",
        "* 1852645 Ovalle Salas Britany\n",
        "* 1861240 Ávila Rodríguez Delfino Azael\n",
        "\n"
      ]
    },
    {
      "cell_type": "markdown",
      "metadata": {
        "id": "tpfxyAN6oNk2"
      },
      "source": [
        "**1.   Título de la base de datos principal.**\n",
        "\n",
        "> **a)** Nombre con el que se encuentra en la página encontrada: *Video Game Sales.*\n",
        "\n",
        "> **b)** Url de la página: *https://www.kaggle.com/gregorut/videogamesales*"
      ]
    },
    {
      "cell_type": "markdown",
      "metadata": {
        "id": "mYhIYauZHjtj"
      },
      "source": [
        "**1.1. Título del póster.**\n",
        ">*¿Cómo hacerte millonario con videojuegos?*"
      ]
    },
    {
      "cell_type": "markdown",
      "metadata": {
        "id": "Nhgb7IeoItF1"
      },
      "source": [
        "**2. Descripción de los datos.**\n",
        ">**a)** Descripción breve de la base de datos: \n",
        ">>En esta base de datos encontraremos el ranking de los videojuegos más vendidos al 2016, superando cada uno las 100,000 copias vendidas, también podremos encontrar los ingresos en MDD que éstos generaron por individual en Norte América, Europa y Japón, entre otras cualidades como: el año de lanzamiento, genéro, plataforma de lanzamiento, etc.\n",
        "\n",
        ">**b)** Descripción básica de columnas y tamaño de la base."
      ]
    },
    {
      "cell_type": "code",
      "metadata": {
        "id": "SpyktYvktgc2",
        "colab": {
          "base_uri": "https://localhost:8080/"
        },
        "outputId": "84d93ee3-939b-44fa-e5d3-363f41e38965"
      },
      "source": [
        "print(\"El número de columnas es:\",len(bd.columns.values))\n",
        "print(\"El número de filas es:\",len(bd.index),\"\\n\")\n",
        "print(\"Nombre de columna / Tipo de dato\\n\")\n",
        "print(bd.dtypes,\"\\n\")   #Nos indica la columna y el tipo de datos que contiene."
      ],
      "execution_count": 2,
      "outputs": [
        {
          "output_type": "stream",
          "name": "stdout",
          "text": [
            "El número de columnas es: 11\n",
            "El número de filas es: 16598 \n",
            "\n",
            "Nombre de columna / Tipo de dato\n",
            "\n",
            "Rank              int64\n",
            "Name             object\n",
            "Platform         object\n",
            "Year            float64\n",
            "Genre            object\n",
            "Publisher        object\n",
            "NA_Sales        float64\n",
            "EU_Sales        float64\n",
            "JP_Sales        float64\n",
            "Other_Sales     float64\n",
            "Global_Sales    float64\n",
            "dtype: object \n",
            "\n"
          ]
        }
      ]
    },
    {
      "cell_type": "markdown",
      "metadata": {
        "id": "izI5U9iFqub5"
      },
      "source": [
        ">>Podemos observar que la mayoría de nuestras columnas cuentan con datos flotantes pero las columnas \"Name\", \"Platform\", \"Genre\" y \"Publisher\" son categóricos y la columna \"Rank\" contiene datos de tipo entero."
      ]
    },
    {
      "cell_type": "markdown",
      "metadata": {
        "id": "ZkzOnQpl5sPT"
      },
      "source": [
        "**3. Justificación del uso de datos:**\n",
        "\n",
        "\n",
        "> **a)** Cuáles fueron las características que les llamó la atención de los datos. Qué les hizo querer trabajar con ellos.\n",
        "\n",
        "\n",
        ">>La base de datos tiene 3 cualidades destacables por la cual fue seleccionada:\n",
        "\n",
        "\n",
        ">>1.   **Abarca más de 16,000 juegos de distintas plataformas:** Desde consolas de videojuegos como Wii, PS3 y XBOX 360 hasta PC.\n",
        "2.   **Contiene información detallada acerca de los juegos:** Género (deportes, acción, plataformas, etc.), el año en que fue lanzado y la compañía que creó el producto.\n",
        "3.   **Las ventas estan seccionadas a los 3 mercados más grandes:** Este incluye nuestro mercado de interés, Norte América.\n",
        "\n",
        "\n",
        "\n",
        "---\n",
        "\n",
        "\n",
        "\n",
        "> **b)** Qué beneficio encuentran de trabajar con estos datos.\n",
        "\n",
        "\n",
        ">>Se puede aprovechar el uso de esta base de datos para responder preguntas como las siguientes:\n",
        "\n",
        "\n",
        ">>*   ¿Cuáles fueron los juegos que más ingresos en ventas obtuvieron en el 2012?\n",
        "*   ¿Qué compañía de videojuegos ha vendido más juegos respecto a las plataformas?\n",
        "\n",
        ">>Esto permite **contestar preguntas acerca de los ingresos que han generado estos productos** y por consiguiente el tema de la base de datos no solo va a ser una actividad recreativa sino que el manejo de la información sea con propósitos pragmáticos.\n",
        "\n"
      ]
    },
    {
      "cell_type": "markdown",
      "metadata": {
        "id": "BauAFYgd6gJi"
      },
      "source": [
        "**4. Mencionar los objetivos**\n",
        "\n",
        "\n",
        "> **a)** Explicar a detalle cual es el objetivo principal (y secundarios en caso de existir) para trabajar con este tipo de datos.\n",
        "\n",
        "\n",
        ">*   Definimos como nuestro objetivo principal:\n",
        ">>Pronosticar cómo se comportarán las ventas que se obtendrían si lanzaramos un videojuego nuevo con las características de los videojuegos más vendidos en Norteamérica.\n",
        "\n",
        ">* Objetivos secundarios:\n",
        "\n",
        ">>1.   Identificar los géneros de videojuegos más populares mundialmente.\n",
        ">>2. Identificar la desarrolladora con más videojuegos en nuestra BD."
      ]
    },
    {
      "cell_type": "markdown",
      "metadata": {
        "id": "P7pmCgJQrHnq"
      },
      "source": [
        "##**Desarrollo de las herramientas**\n",
        "\n",
        "\n",
        "###**1. Limpieza de datos**\n",
        "\n",
        "> **a)** Mostrar los datos sin manipulación."
      ]
    },
    {
      "cell_type": "markdown",
      "metadata": {
        "id": "48gV2k0azjq3"
      },
      "source": [
        "La base de datos original y sin manipular es la que se muestra a continuación:"
      ]
    },
    {
      "cell_type": "code",
      "metadata": {
        "id": "Pq1kStiGrPUP",
        "colab": {
          "base_uri": "https://localhost:8080/",
          "height": 419
        },
        "outputId": "4a81a276-92a0-4f00-f4a2-ad0abacd2970"
      },
      "source": [
        "import pandas as pd\n",
        "import numpy as np\n",
        "\n",
        "bd= pd.read_csv(\"vgsales.csv\") #Se lee y asigna la base de datos a la variable bd\n",
        "bd"
      ],
      "execution_count": 1,
      "outputs": [
        {
          "output_type": "execute_result",
          "data": {
            "text/html": [
              "<div>\n",
              "<style scoped>\n",
              "    .dataframe tbody tr th:only-of-type {\n",
              "        vertical-align: middle;\n",
              "    }\n",
              "\n",
              "    .dataframe tbody tr th {\n",
              "        vertical-align: top;\n",
              "    }\n",
              "\n",
              "    .dataframe thead th {\n",
              "        text-align: right;\n",
              "    }\n",
              "</style>\n",
              "<table border=\"1\" class=\"dataframe\">\n",
              "  <thead>\n",
              "    <tr style=\"text-align: right;\">\n",
              "      <th></th>\n",
              "      <th>Rank</th>\n",
              "      <th>Name</th>\n",
              "      <th>Platform</th>\n",
              "      <th>Year</th>\n",
              "      <th>Genre</th>\n",
              "      <th>Publisher</th>\n",
              "      <th>NA_Sales</th>\n",
              "      <th>EU_Sales</th>\n",
              "      <th>JP_Sales</th>\n",
              "      <th>Other_Sales</th>\n",
              "      <th>Global_Sales</th>\n",
              "    </tr>\n",
              "  </thead>\n",
              "  <tbody>\n",
              "    <tr>\n",
              "      <th>0</th>\n",
              "      <td>1</td>\n",
              "      <td>Wii Sports</td>\n",
              "      <td>Wii</td>\n",
              "      <td>2006.0</td>\n",
              "      <td>Sports</td>\n",
              "      <td>Nintendo</td>\n",
              "      <td>41.49</td>\n",
              "      <td>29.02</td>\n",
              "      <td>3.77</td>\n",
              "      <td>8.46</td>\n",
              "      <td>82.74</td>\n",
              "    </tr>\n",
              "    <tr>\n",
              "      <th>1</th>\n",
              "      <td>2</td>\n",
              "      <td>Super Mario Bros.</td>\n",
              "      <td>NES</td>\n",
              "      <td>1985.0</td>\n",
              "      <td>Platform</td>\n",
              "      <td>Nintendo</td>\n",
              "      <td>29.08</td>\n",
              "      <td>3.58</td>\n",
              "      <td>6.81</td>\n",
              "      <td>0.77</td>\n",
              "      <td>40.24</td>\n",
              "    </tr>\n",
              "    <tr>\n",
              "      <th>2</th>\n",
              "      <td>3</td>\n",
              "      <td>Mario Kart Wii</td>\n",
              "      <td>Wii</td>\n",
              "      <td>2008.0</td>\n",
              "      <td>Racing</td>\n",
              "      <td>Nintendo</td>\n",
              "      <td>15.85</td>\n",
              "      <td>12.88</td>\n",
              "      <td>3.79</td>\n",
              "      <td>3.31</td>\n",
              "      <td>35.82</td>\n",
              "    </tr>\n",
              "    <tr>\n",
              "      <th>3</th>\n",
              "      <td>4</td>\n",
              "      <td>Wii Sports Resort</td>\n",
              "      <td>Wii</td>\n",
              "      <td>2009.0</td>\n",
              "      <td>Sports</td>\n",
              "      <td>Nintendo</td>\n",
              "      <td>15.75</td>\n",
              "      <td>11.01</td>\n",
              "      <td>3.28</td>\n",
              "      <td>2.96</td>\n",
              "      <td>33.00</td>\n",
              "    </tr>\n",
              "    <tr>\n",
              "      <th>4</th>\n",
              "      <td>5</td>\n",
              "      <td>Pokemon Red/Pokemon Blue</td>\n",
              "      <td>GB</td>\n",
              "      <td>1996.0</td>\n",
              "      <td>Role-Playing</td>\n",
              "      <td>Nintendo</td>\n",
              "      <td>11.27</td>\n",
              "      <td>8.89</td>\n",
              "      <td>10.22</td>\n",
              "      <td>1.00</td>\n",
              "      <td>31.37</td>\n",
              "    </tr>\n",
              "    <tr>\n",
              "      <th>...</th>\n",
              "      <td>...</td>\n",
              "      <td>...</td>\n",
              "      <td>...</td>\n",
              "      <td>...</td>\n",
              "      <td>...</td>\n",
              "      <td>...</td>\n",
              "      <td>...</td>\n",
              "      <td>...</td>\n",
              "      <td>...</td>\n",
              "      <td>...</td>\n",
              "      <td>...</td>\n",
              "    </tr>\n",
              "    <tr>\n",
              "      <th>16593</th>\n",
              "      <td>16596</td>\n",
              "      <td>Woody Woodpecker in Crazy Castle 5</td>\n",
              "      <td>GBA</td>\n",
              "      <td>2002.0</td>\n",
              "      <td>Platform</td>\n",
              "      <td>Kemco</td>\n",
              "      <td>0.01</td>\n",
              "      <td>0.00</td>\n",
              "      <td>0.00</td>\n",
              "      <td>0.00</td>\n",
              "      <td>0.01</td>\n",
              "    </tr>\n",
              "    <tr>\n",
              "      <th>16594</th>\n",
              "      <td>16597</td>\n",
              "      <td>Men in Black II: Alien Escape</td>\n",
              "      <td>GC</td>\n",
              "      <td>2003.0</td>\n",
              "      <td>Shooter</td>\n",
              "      <td>Infogrames</td>\n",
              "      <td>0.01</td>\n",
              "      <td>0.00</td>\n",
              "      <td>0.00</td>\n",
              "      <td>0.00</td>\n",
              "      <td>0.01</td>\n",
              "    </tr>\n",
              "    <tr>\n",
              "      <th>16595</th>\n",
              "      <td>16598</td>\n",
              "      <td>SCORE International Baja 1000: The Official Game</td>\n",
              "      <td>PS2</td>\n",
              "      <td>2008.0</td>\n",
              "      <td>Racing</td>\n",
              "      <td>Activision</td>\n",
              "      <td>0.00</td>\n",
              "      <td>0.00</td>\n",
              "      <td>0.00</td>\n",
              "      <td>0.00</td>\n",
              "      <td>0.01</td>\n",
              "    </tr>\n",
              "    <tr>\n",
              "      <th>16596</th>\n",
              "      <td>16599</td>\n",
              "      <td>Know How 2</td>\n",
              "      <td>DS</td>\n",
              "      <td>2010.0</td>\n",
              "      <td>Puzzle</td>\n",
              "      <td>7G//AMES</td>\n",
              "      <td>0.00</td>\n",
              "      <td>0.01</td>\n",
              "      <td>0.00</td>\n",
              "      <td>0.00</td>\n",
              "      <td>0.01</td>\n",
              "    </tr>\n",
              "    <tr>\n",
              "      <th>16597</th>\n",
              "      <td>16600</td>\n",
              "      <td>Spirits &amp; Spells</td>\n",
              "      <td>GBA</td>\n",
              "      <td>2003.0</td>\n",
              "      <td>Platform</td>\n",
              "      <td>Wanadoo</td>\n",
              "      <td>0.01</td>\n",
              "      <td>0.00</td>\n",
              "      <td>0.00</td>\n",
              "      <td>0.00</td>\n",
              "      <td>0.01</td>\n",
              "    </tr>\n",
              "  </tbody>\n",
              "</table>\n",
              "<p>16598 rows × 11 columns</p>\n",
              "</div>"
            ],
            "text/plain": [
              "        Rank  ... Global_Sales\n",
              "0          1  ...        82.74\n",
              "1          2  ...        40.24\n",
              "2          3  ...        35.82\n",
              "3          4  ...        33.00\n",
              "4          5  ...        31.37\n",
              "...      ...  ...          ...\n",
              "16593  16596  ...         0.01\n",
              "16594  16597  ...         0.01\n",
              "16595  16598  ...         0.01\n",
              "16596  16599  ...         0.01\n",
              "16597  16600  ...         0.01\n",
              "\n",
              "[16598 rows x 11 columns]"
            ]
          },
          "metadata": {},
          "execution_count": 1
        }
      ]
    },
    {
      "cell_type": "markdown",
      "metadata": {
        "id": "2Bjvv3jKle66"
      },
      "source": [
        "> **b)** Eliminar columnas no deseadas.\n",
        "\n",
        "Para eliminar las columnas no deseadas, quisimos enfocarnos solo en las variables que estuvieran correlacionadas con las ventas en Norte América ya que es nuestro mercado objetivo. Hicimos uso de un mapa de correlación."
      ]
    },
    {
      "cell_type": "code",
      "metadata": {
        "colab": {
          "base_uri": "https://localhost:8080/",
          "height": 661
        },
        "id": "DhzBZSc3gxa2",
        "outputId": "f8b5723b-9630-46fe-8425-93cba888545c"
      },
      "source": [
        "import matplotlib.pyplot as plt\n",
        "import seaborn as sns\n",
        "\n",
        "f,ax=plt.subplots(figsize = (15,10))\n",
        "\n",
        "sns.heatmap(bd.corr(),annot= True,linewidths=0.5,fmt = \".1f\")\n",
        "plt.xticks(rotation=90)\n",
        "plt.yticks(rotation=0)\n",
        "plt.title('Mapa de correlación')\n",
        "plt.show()"
      ],
      "execution_count": 11,
      "outputs": [
        {
          "output_type": "display_data",
          "data": {
            "image/png": "[encoded data removed]",
            "text/plain": [
              "<Figure size 1080x720 with 2 Axes>"
            ]
          },
          "metadata": {
            "needs_background": "light"
          }
        }
      ]
    },
    {
      "cell_type": "markdown",
      "metadata": {
        "id": "e4U0iSO3iI7s"
      },
      "source": [
        "Gracias a este mapa de calor podemos eliminar las variables que no están correlacionadas a NA_Sales (las ventas en Norteamérica). En este caso podemos eliminar JP_Sales (Ventas en Asia) ya que no ofrece una correlación importante con las ventas en Norteamérica."
      ]
    },
    {
      "cell_type": "code",
      "metadata": {
        "colab": {
          "base_uri": "https://localhost:8080/",
          "height": 394
        },
        "id": "j6e6Suwb0zJ-",
        "outputId": "f074afb0-d6c5-4d15-fc00-7221af00cb42"
      },
      "source": [
        "bd_ventas=bd[['Name','NA_Sales','EU_Sales','JP_Sales','Other_Sales']].copy()\n",
        "bd_ventas.head(20).plot.bar(stacked=True,figsize=(20,6)) "
      ],
      "execution_count": 4,
      "outputs": [
        {
          "output_type": "execute_result",
          "data": {
            "text/plain": [
              "<matplotlib.axes._subplots.AxesSubplot at 0x7fe5a52a7f50>"
            ]
          },
          "metadata": {},
          "execution_count": 4
        },
        {
          "output_type": "display_data",
          "data": {
            "image/png": "[encoded data removed]",
            "text/plain": [
              "<Figure size 1440x432 with 1 Axes>"
            ]
          },
          "metadata": {
            "needs_background": "light"
          }
        }
      ]
    },
    {
      "cell_type": "markdown",
      "metadata": {
        "id": "VWWhYsJtGJDV"
      },
      "source": [
        ">La gráfica anterior ayudó a reafirmar la eliminación de la columna JP_Sales ya que las ventas en Asia no representan una parte significativa de las ventas Globales de videojuegos, concluyendo lo mismo de las columnas EU_Sales (Ventas en Europa) y Other_Sales (Otras ventas)."
      ]
    },
    {
      "cell_type": "code",
      "metadata": {
        "colab": {
          "base_uri": "https://localhost:8080/",
          "height": 419
        },
        "id": "ob12RE8plh_g",
        "outputId": "f7564efc-7f38-4e3b-eff7-764605f117ce"
      },
      "source": [
        "bdn= bd.drop(['EU_Sales','JP_Sales','Other_Sales'],axis=1) #Se elimina la columna indicada de nuestra bd.\n",
        "bdn #creamos una nueva bd sin las columnas eliminadas."
      ],
      "execution_count": 5,
      "outputs": [
        {
          "output_type": "execute_result",
          "data": {
            "text/html": [
              "<div>\n",
              "<style scoped>\n",
              "    .dataframe tbody tr th:only-of-type {\n",
              "        vertical-align: middle;\n",
              "    }\n",
              "\n",
              "    .dataframe tbody tr th {\n",
              "        vertical-align: top;\n",
              "    }\n",
              "\n",
              "    .dataframe thead th {\n",
              "        text-align: right;\n",
              "    }\n",
              "</style>\n",
              "<table border=\"1\" class=\"dataframe\">\n",
              "  <thead>\n",
              "    <tr style=\"text-align: right;\">\n",
              "      <th></th>\n",
              "      <th>Rank</th>\n",
              "      <th>Name</th>\n",
              "      <th>Platform</th>\n",
              "      <th>Year</th>\n",
              "      <th>Genre</th>\n",
              "      <th>Publisher</th>\n",
              "      <th>NA_Sales</th>\n",
              "      <th>Global_Sales</th>\n",
              "    </tr>\n",
              "  </thead>\n",
              "  <tbody>\n",
              "    <tr>\n",
              "      <th>0</th>\n",
              "      <td>1</td>\n",
              "      <td>Wii Sports</td>\n",
              "      <td>Wii</td>\n",
              "      <td>2006.0</td>\n",
              "      <td>Sports</td>\n",
              "      <td>Nintendo</td>\n",
              "      <td>41.49</td>\n",
              "      <td>82.74</td>\n",
              "    </tr>\n",
              "    <tr>\n",
              "      <th>1</th>\n",
              "      <td>2</td>\n",
              "      <td>Super Mario Bros.</td>\n",
              "      <td>NES</td>\n",
              "      <td>1985.0</td>\n",
              "      <td>Platform</td>\n",
              "      <td>Nintendo</td>\n",
              "      <td>29.08</td>\n",
              "      <td>40.24</td>\n",
              "    </tr>\n",
              "    <tr>\n",
              "      <th>2</th>\n",
              "      <td>3</td>\n",
              "      <td>Mario Kart Wii</td>\n",
              "      <td>Wii</td>\n",
              "      <td>2008.0</td>\n",
              "      <td>Racing</td>\n",
              "      <td>Nintendo</td>\n",
              "      <td>15.85</td>\n",
              "      <td>35.82</td>\n",
              "    </tr>\n",
              "    <tr>\n",
              "      <th>3</th>\n",
              "      <td>4</td>\n",
              "      <td>Wii Sports Resort</td>\n",
              "      <td>Wii</td>\n",
              "      <td>2009.0</td>\n",
              "      <td>Sports</td>\n",
              "      <td>Nintendo</td>\n",
              "      <td>15.75</td>\n",
              "      <td>33.00</td>\n",
              "    </tr>\n",
              "    <tr>\n",
              "      <th>4</th>\n",
              "      <td>5</td>\n",
              "      <td>Pokemon Red/Pokemon Blue</td>\n",
              "      <td>GB</td>\n",
              "      <td>1996.0</td>\n",
              "      <td>Role-Playing</td>\n",
              "      <td>Nintendo</td>\n",
              "      <td>11.27</td>\n",
              "      <td>31.37</td>\n",
              "    </tr>\n",
              "    <tr>\n",
              "      <th>...</th>\n",
              "      <td>...</td>\n",
              "      <td>...</td>\n",
              "      <td>...</td>\n",
              "      <td>...</td>\n",
              "      <td>...</td>\n",
              "      <td>...</td>\n",
              "      <td>...</td>\n",
              "      <td>...</td>\n",
              "    </tr>\n",
              "    <tr>\n",
              "      <th>16593</th>\n",
              "      <td>16596</td>\n",
              "      <td>Woody Woodpecker in Crazy Castle 5</td>\n",
              "      <td>GBA</td>\n",
              "      <td>2002.0</td>\n",
              "      <td>Platform</td>\n",
              "      <td>Kemco</td>\n",
              "      <td>0.01</td>\n",
              "      <td>0.01</td>\n",
              "    </tr>\n",
              "    <tr>\n",
              "      <th>16594</th>\n",
              "      <td>16597</td>\n",
              "      <td>Men in Black II: Alien Escape</td>\n",
              "      <td>GC</td>\n",
              "      <td>2003.0</td>\n",
              "      <td>Shooter</td>\n",
              "      <td>Infogrames</td>\n",
              "      <td>0.01</td>\n",
              "      <td>0.01</td>\n",
              "    </tr>\n",
              "    <tr>\n",
              "      <th>16595</th>\n",
              "      <td>16598</td>\n",
              "      <td>SCORE International Baja 1000: The Official Game</td>\n",
              "      <td>PS2</td>\n",
              "      <td>2008.0</td>\n",
              "      <td>Racing</td>\n",
              "      <td>Activision</td>\n",
              "      <td>0.00</td>\n",
              "      <td>0.01</td>\n",
              "    </tr>\n",
              "    <tr>\n",
              "      <th>16596</th>\n",
              "      <td>16599</td>\n",
              "      <td>Know How 2</td>\n",
              "      <td>DS</td>\n",
              "      <td>2010.0</td>\n",
              "      <td>Puzzle</td>\n",
              "      <td>7G//AMES</td>\n",
              "      <td>0.00</td>\n",
              "      <td>0.01</td>\n",
              "    </tr>\n",
              "    <tr>\n",
              "      <th>16597</th>\n",
              "      <td>16600</td>\n",
              "      <td>Spirits &amp; Spells</td>\n",
              "      <td>GBA</td>\n",
              "      <td>2003.0</td>\n",
              "      <td>Platform</td>\n",
              "      <td>Wanadoo</td>\n",
              "      <td>0.01</td>\n",
              "      <td>0.01</td>\n",
              "    </tr>\n",
              "  </tbody>\n",
              "</table>\n",
              "<p>16598 rows × 8 columns</p>\n",
              "</div>"
            ],
            "text/plain": [
              "        Rank  ... Global_Sales\n",
              "0          1  ...        82.74\n",
              "1          2  ...        40.24\n",
              "2          3  ...        35.82\n",
              "3          4  ...        33.00\n",
              "4          5  ...        31.37\n",
              "...      ...  ...          ...\n",
              "16593  16596  ...         0.01\n",
              "16594  16597  ...         0.01\n",
              "16595  16598  ...         0.01\n",
              "16596  16599  ...         0.01\n",
              "16597  16600  ...         0.01\n",
              "\n",
              "[16598 rows x 8 columns]"
            ]
          },
          "metadata": {},
          "execution_count": 5
        }
      ]
    },
    {
      "cell_type": "markdown",
      "metadata": {
        "id": "Y5d34CBblhDe"
      },
      "source": [
        "Después de eliminar las columnas que no se utilizarán, cambiamos el nombre de cada columna a su traducción al español."
      ]
    },
    {
      "cell_type": "code",
      "metadata": {
        "colab": {
          "base_uri": "https://localhost:8080/",
          "height": 142
        },
        "id": "y3_xn7WBrs61",
        "outputId": "355860cc-f838-4faf-95c1-5b27af1f6d85"
      },
      "source": [
        "bdn=bdn.rename(columns = {'Rank':'Ranking','Name':'Nombre','Platform':'Plataforma', 'Year':'Año', 'Genre':'Genero',\n",
        "                     'Publisher':'Desarrolladora','NA_Sales':'Ventas_Norte_America_(MDD)', 'Global_Sales':'Ventas_Globales_(MDD)'})\n",
        "bdn.head(3)"
      ],
      "execution_count": 6,
      "outputs": [
        {
          "output_type": "execute_result",
          "data": {
            "text/html": [
              "<div>\n",
              "<style scoped>\n",
              "    .dataframe tbody tr th:only-of-type {\n",
              "        vertical-align: middle;\n",
              "    }\n",
              "\n",
              "    .dataframe tbody tr th {\n",
              "        vertical-align: top;\n",
              "    }\n",
              "\n",
              "    .dataframe thead th {\n",
              "        text-align: right;\n",
              "    }\n",
              "</style>\n",
              "<table border=\"1\" class=\"dataframe\">\n",
              "  <thead>\n",
              "    <tr style=\"text-align: right;\">\n",
              "      <th></th>\n",
              "      <th>Ranking</th>\n",
              "      <th>Nombre</th>\n",
              "      <th>Plataforma</th>\n",
              "      <th>Año</th>\n",
              "      <th>Genero</th>\n",
              "      <th>Desarrolladora</th>\n",
              "      <th>Ventas_Norte_America_(MDD)</th>\n",
              "      <th>Ventas_Globales_(MDD)</th>\n",
              "    </tr>\n",
              "  </thead>\n",
              "  <tbody>\n",
              "    <tr>\n",
              "      <th>0</th>\n",
              "      <td>1</td>\n",
              "      <td>Wii Sports</td>\n",
              "      <td>Wii</td>\n",
              "      <td>2006.0</td>\n",
              "      <td>Sports</td>\n",
              "      <td>Nintendo</td>\n",
              "      <td>41.49</td>\n",
              "      <td>82.74</td>\n",
              "    </tr>\n",
              "    <tr>\n",
              "      <th>1</th>\n",
              "      <td>2</td>\n",
              "      <td>Super Mario Bros.</td>\n",
              "      <td>NES</td>\n",
              "      <td>1985.0</td>\n",
              "      <td>Platform</td>\n",
              "      <td>Nintendo</td>\n",
              "      <td>29.08</td>\n",
              "      <td>40.24</td>\n",
              "    </tr>\n",
              "    <tr>\n",
              "      <th>2</th>\n",
              "      <td>3</td>\n",
              "      <td>Mario Kart Wii</td>\n",
              "      <td>Wii</td>\n",
              "      <td>2008.0</td>\n",
              "      <td>Racing</td>\n",
              "      <td>Nintendo</td>\n",
              "      <td>15.85</td>\n",
              "      <td>35.82</td>\n",
              "    </tr>\n",
              "  </tbody>\n",
              "</table>\n",
              "</div>"
            ],
            "text/plain": [
              "   Ranking  ... Ventas_Globales_(MDD)\n",
              "0        1  ...                 82.74\n",
              "1        2  ...                 40.24\n",
              "2        3  ...                 35.82\n",
              "\n",
              "[3 rows x 8 columns]"
            ]
          },
          "metadata": {},
          "execution_count": 6
        }
      ]
    },
    {
      "cell_type": "markdown",
      "metadata": {
        "id": "0cXHzY3ou8BL"
      },
      "source": [
        "> **c)** Correcta manipulación de los datos nulos dentro de la base de datos."
      ]
    },
    {
      "cell_type": "code",
      "metadata": {
        "colab": {
          "base_uri": "https://localhost:8080/"
        },
        "id": "KNgf2BSUm64Y",
        "outputId": "ceb6c880-c1de-43ad-e9fe-db8050eacfaa"
      },
      "source": [
        "print(\"Nombre de columna / Datos nulos\\n\")\n",
        "bdn.isnull().sum() #Nos indica la cantidad de datos nulos en cada columna"
      ],
      "execution_count": 7,
      "outputs": [
        {
          "output_type": "stream",
          "name": "stdout",
          "text": [
            "Nombre de columna / Datos nulos\n",
            "\n"
          ]
        },
        {
          "output_type": "execute_result",
          "data": {
            "text/plain": [
              "Ranking                         0\n",
              "Nombre                          0\n",
              "Plataforma                      0\n",
              "Año                           271\n",
              "Genero                          0\n",
              "Desarrolladora                 58\n",
              "Ventas_Norte_America_(MDD)      0\n",
              "Ventas_Globales_(MDD)           0\n",
              "dtype: int64"
            ]
          },
          "metadata": {},
          "execution_count": 7
        }
      ]
    },
    {
      "cell_type": "markdown",
      "metadata": {
        "id": "hBOjR4g4pr1m"
      },
      "source": [
        ">>  Nuestra base de datos cuenta con 271 datos nulos en la columna \"Año\" y 58 en la columna \"Desarrolladora\" por lo que se decidió eliminar dichas filas, esto para solo considerar los videojuegos cuyo año de publicación y compañía son conocidos."
      ]
    },
    {
      "cell_type": "code",
      "metadata": {
        "colab": {
          "base_uri": "https://localhost:8080/"
        },
        "id": "6oUw2-CKquyH",
        "outputId": "274d00d8-f652-4d14-e071-a488c63c9002"
      },
      "source": [
        "bdn = bdn.dropna() #Se eliminan las filas con datos nulos en cualquier columna\n",
        "bdn.isnull().sum()"
      ],
      "execution_count": 8,
      "outputs": [
        {
          "output_type": "execute_result",
          "data": {
            "text/plain": [
              "Ranking                       0\n",
              "Nombre                        0\n",
              "Plataforma                    0\n",
              "Año                           0\n",
              "Genero                        0\n",
              "Desarrolladora                0\n",
              "Ventas_Norte_America_(MDD)    0\n",
              "Ventas_Globales_(MDD)         0\n",
              "dtype: int64"
            ]
          },
          "metadata": {},
          "execution_count": 8
        }
      ]
    },
    {
      "cell_type": "markdown",
      "metadata": {
        "id": "Ih-biVogrcAk"
      },
      "source": [
        ">>  Nuestra base de datos ya no cuenta con datos nulos."
      ]
    },
    {
      "cell_type": "markdown",
      "metadata": {
        "id": "meL6ofeFWLnx"
      },
      "source": [
        "> **e)** Crear un nuevo archivo con la base de datos editada."
      ]
    },
    {
      "cell_type": "code",
      "metadata": {
        "id": "MY6nVTDdWVkA"
      },
      "source": [
        "bdn.to_csv('vgsales sin NaN.csv', index=False, sep = ',')"
      ],
      "execution_count": null,
      "outputs": []
    },
    {
      "cell_type": "markdown",
      "metadata": {
        "id": "e_y-86WOkZvP"
      },
      "source": [
        "###**2. Estadística básica de los datos.**"
      ]
    },
    {
      "cell_type": "code",
      "metadata": {
        "colab": {
          "base_uri": "https://localhost:8080/"
        },
        "id": "3fwsNX7FtU-L",
        "outputId": "9d262306-b3a0-4289-a75c-8d2b1e46ea76"
      },
      "source": [
        "bdn['Ventas_Norte_America_(MDD)'].describe()"
      ],
      "execution_count": null,
      "outputs": [
        {
          "output_type": "execute_result",
          "data": {
            "text/plain": [
              "count    16291.000000\n",
              "mean         0.265647\n",
              "std          0.822432\n",
              "min          0.000000\n",
              "25%          0.000000\n",
              "50%          0.080000\n",
              "75%          0.240000\n",
              "max         41.490000\n",
              "Name: Ventas_Norte_America_(MDD), dtype: float64"
            ]
          },
          "metadata": {},
          "execution_count": 174
        }
      ]
    },
    {
      "cell_type": "markdown",
      "metadata": {
        "id": "Xq4EQMGMtmKk"
      },
      "source": [
        ">> Dado que nuestro objetivo principal está desarrollado principalmente en las ventas que se generaron en Norte América, obtuvimos la descripción estadística de dicha columna, la cual nos muestra que:\n",
        "\n",
        "\n",
        ">>>*   El rango de ventas en MDD es de [0, 41.49]\n",
        ">>>*   El promedio de ventas es de 0.26 MDD\n",
        ">>>*   La desviación estándar de los datos es de 0.82 lo que significa que las ventas están muy dispersas de la media.\n",
        "\n"
      ]
    },
    {
      "cell_type": "code",
      "metadata": {
        "id": "FlaBB5h9UzwH",
        "colab": {
          "base_uri": "https://localhost:8080/"
        },
        "outputId": "c3cd9279-c081-4419-e07a-dea68ab2e8d4"
      },
      "source": [
        "bdn['Desarrolladora'].describe()"
      ],
      "execution_count": null,
      "outputs": [
        {
          "output_type": "execute_result",
          "data": {
            "text/plain": [
              "count               16291\n",
              "unique                576\n",
              "top       Electronic Arts\n",
              "freq                 1339\n",
              "Name: Desarrolladora, dtype: object"
            ]
          },
          "metadata": {},
          "execution_count": 150
        }
      ]
    },
    {
      "cell_type": "markdown",
      "metadata": {
        "id": "7t4Iu_y_U6AL"
      },
      "source": [
        ">>El siguiente paso fue revisar la columna Desarrolladora y notamos que se cuenta con 576 compañías diferentes siendo Electronic Arts la más repetida en la base de datos."
      ]
    },
    {
      "cell_type": "code",
      "metadata": {
        "id": "AguAjrz_uC59",
        "colab": {
          "base_uri": "https://localhost:8080/"
        },
        "outputId": "ab5bc5d3-f6c9-45fb-8c20-a9cd48fbc0d9"
      },
      "source": [
        "bdn['Genero'].describe()"
      ],
      "execution_count": null,
      "outputs": [
        {
          "output_type": "execute_result",
          "data": {
            "text/plain": [
              "count      16291\n",
              "unique        12\n",
              "top       Action\n",
              "freq        3251\n",
              "Name: Genero, dtype: object"
            ]
          },
          "metadata": {},
          "execution_count": 151
        }
      ]
    },
    {
      "cell_type": "markdown",
      "metadata": {
        "id": "-KrZMXY6rZij"
      },
      "source": [
        ">>Después, revisamos la columna \"Género\" y notamos que contamos con 12 géneros distintos, siendo Acción el más repetido."
      ]
    },
    {
      "cell_type": "markdown",
      "metadata": {
        "id": "JksuANiqn8o-"
      },
      "source": [
        "###**3. Gráficas.**"
      ]
    },
    {
      "cell_type": "code",
      "metadata": {
        "id": "HiOk-NSnyOQR"
      },
      "source": [
        "pd.plotting.register_matplotlib_converters()\n",
        "import matplotlib as plt\n",
        "%matplotlib inline\n",
        "import seaborn as sns"
      ],
      "execution_count": 9,
      "outputs": []
    },
    {
      "cell_type": "code",
      "metadata": {
        "colab": {
          "base_uri": "https://localhost:8080/",
          "height": 549
        },
        "id": "VjZ8mJlywKFy",
        "outputId": "106f7656-d279-46a6-e77c-c207248717e5"
      },
      "source": [
        "(bdn['Desarrolladora'].value_counts().head(10)/len(bdn)).plot.bar(figsize=(20,6))\n",
        "plt.title(\"Gráfica 1. Proporción de videojuegos por desarrolladora\",fontweight=\"bold\")"
      ],
      "execution_count": 12,
      "outputs": [
        {
          "output_type": "execute_result",
          "data": {
            "text/plain": [
              "Text(0.5, 1.0, 'Gráfica 1. Proporción de videojuegos por desarrolladora')"
            ]
          },
          "metadata": {},
          "execution_count": 12
        },
        {
          "output_type": "display_data",
          "data": {
            "image/png": "[encoded data removed]",
            "text/plain": [
              "<Figure size 1440x432 with 1 Axes>"
            ]
          },
          "metadata": {
            "needs_background": "light"
          }
        }
      ]
    },
    {
      "cell_type": "markdown",
      "metadata": {
        "id": "WilwMbNa7Pav"
      },
      "source": [
        "Con esta gráfica podemos observar la proporción de videojuegos por desarrolladora que conforman nuestra base de datos, concluyendo que más del 15% de nuestro ranking está conformado por videojuegos desarrollados por **Electronic Arts, Activision y Namco Bandai Games**."
      ]
    },
    {
      "cell_type": "markdown",
      "metadata": {
        "id": "b2IobDweGXQM"
      },
      "source": [
        "#####Para realizar el gráfico correspondiente al total de ventas respecto a la desarrolladora, tendremos que realizar una agrupación.\n",
        ">Realizaremos una nueva BD donde sólo estén las columnas \"Desarrolladora\" y \"Ventas_Norte_América_(MDD)\".\n"
      ]
    },
    {
      "cell_type": "code",
      "metadata": {
        "colab": {
          "base_uri": "https://localhost:8080/",
          "height": 419
        },
        "id": "YQhVUQZwGpRb",
        "outputId": "96797ead-78a7-4cf5-aa59-8b02f361aa31"
      },
      "source": [
        "bd_des= bdn.iloc[:, [5,6]] #Realizamos nueva bd con solo la columna desarrolladora y ventas en Norteamérica.\n",
        "bd_des\n",
        "#DUDAS: https://www.analyticslane.com/2019/06/21/seleccionar-filas-y-columnas-en-pandas-con-iloc-y-loc/"
      ],
      "execution_count": null,
      "outputs": [
        {
          "output_type": "execute_result",
          "data": {
            "text/html": [
              "<div>\n",
              "<style scoped>\n",
              "    .dataframe tbody tr th:only-of-type {\n",
              "        vertical-align: middle;\n",
              "    }\n",
              "\n",
              "    .dataframe tbody tr th {\n",
              "        vertical-align: top;\n",
              "    }\n",
              "\n",
              "    .dataframe thead th {\n",
              "        text-align: right;\n",
              "    }\n",
              "</style>\n",
              "<table border=\"1\" class=\"dataframe\">\n",
              "  <thead>\n",
              "    <tr style=\"text-align: right;\">\n",
              "      <th></th>\n",
              "      <th>Desarrolladora</th>\n",
              "      <th>Ventas_Norte_America_(MDD)</th>\n",
              "    </tr>\n",
              "  </thead>\n",
              "  <tbody>\n",
              "    <tr>\n",
              "      <th>0</th>\n",
              "      <td>Nintendo</td>\n",
              "      <td>41.49</td>\n",
              "    </tr>\n",
              "    <tr>\n",
              "      <th>1</th>\n",
              "      <td>Nintendo</td>\n",
              "      <td>29.08</td>\n",
              "    </tr>\n",
              "    <tr>\n",
              "      <th>2</th>\n",
              "      <td>Nintendo</td>\n",
              "      <td>15.85</td>\n",
              "    </tr>\n",
              "    <tr>\n",
              "      <th>3</th>\n",
              "      <td>Nintendo</td>\n",
              "      <td>15.75</td>\n",
              "    </tr>\n",
              "    <tr>\n",
              "      <th>4</th>\n",
              "      <td>Nintendo</td>\n",
              "      <td>11.27</td>\n",
              "    </tr>\n",
              "    <tr>\n",
              "      <th>...</th>\n",
              "      <td>...</td>\n",
              "      <td>...</td>\n",
              "    </tr>\n",
              "    <tr>\n",
              "      <th>16593</th>\n",
              "      <td>Kemco</td>\n",
              "      <td>0.01</td>\n",
              "    </tr>\n",
              "    <tr>\n",
              "      <th>16594</th>\n",
              "      <td>Infogrames</td>\n",
              "      <td>0.01</td>\n",
              "    </tr>\n",
              "    <tr>\n",
              "      <th>16595</th>\n",
              "      <td>Activision</td>\n",
              "      <td>0.00</td>\n",
              "    </tr>\n",
              "    <tr>\n",
              "      <th>16596</th>\n",
              "      <td>7G//AMES</td>\n",
              "      <td>0.00</td>\n",
              "    </tr>\n",
              "    <tr>\n",
              "      <th>16597</th>\n",
              "      <td>Wanadoo</td>\n",
              "      <td>0.01</td>\n",
              "    </tr>\n",
              "  </tbody>\n",
              "</table>\n",
              "<p>16291 rows × 2 columns</p>\n",
              "</div>"
            ],
            "text/plain": [
              "      Desarrolladora  Ventas_Norte_America_(MDD)\n",
              "0           Nintendo                       41.49\n",
              "1           Nintendo                       29.08\n",
              "2           Nintendo                       15.85\n",
              "3           Nintendo                       15.75\n",
              "4           Nintendo                       11.27\n",
              "...              ...                         ...\n",
              "16593          Kemco                        0.01\n",
              "16594     Infogrames                        0.01\n",
              "16595     Activision                        0.00\n",
              "16596       7G//AMES                        0.00\n",
              "16597        Wanadoo                        0.01\n",
              "\n",
              "[16291 rows x 2 columns]"
            ]
          },
          "metadata": {},
          "execution_count": 176
        }
      ]
    },
    {
      "cell_type": "markdown",
      "metadata": {
        "id": "6U0CVG3aG181"
      },
      "source": [
        "> Ahora con nuestra nueva BD, agruparemos nuestros datos de tal manera que podamos visualizar el total de ventas en (MDD) que cada desarrolladora de videojuegos obtuvó."
      ]
    },
    {
      "cell_type": "code",
      "metadata": {
        "colab": {
          "base_uri": "https://localhost:8080/",
          "height": 450
        },
        "id": "tlKlZ15IG9Pz",
        "outputId": "0f141f77-6e05-4ca0-a897-5e81cc6e311a"
      },
      "source": [
        "bd_des_vts=bd_des.groupby(['Desarrolladora']).sum() #En esta agrupación se muestra una bd con la suma total de ventas en MDD por desarrolladora.\n",
        "bd_des_vts=bd_des_vts.sort_values('Ventas_Norte_America_(MDD)',ascending=False) #Ordenamos de mayor a menor por ventas.\n",
        "bd_des_vts\n",
        "#DUDAS: https://medium.com/ironhack/data-cleaning-con-pandas-parte-2-a4e1f55e446b"
      ],
      "execution_count": null,
      "outputs": [
        {
          "output_type": "execute_result",
          "data": {
            "text/html": [
              "<div>\n",
              "<style scoped>\n",
              "    .dataframe tbody tr th:only-of-type {\n",
              "        vertical-align: middle;\n",
              "    }\n",
              "\n",
              "    .dataframe tbody tr th {\n",
              "        vertical-align: top;\n",
              "    }\n",
              "\n",
              "    .dataframe thead th {\n",
              "        text-align: right;\n",
              "    }\n",
              "</style>\n",
              "<table border=\"1\" class=\"dataframe\">\n",
              "  <thead>\n",
              "    <tr style=\"text-align: right;\">\n",
              "      <th></th>\n",
              "      <th>Ventas_Norte_America_(MDD)</th>\n",
              "    </tr>\n",
              "    <tr>\n",
              "      <th>Desarrolladora</th>\n",
              "      <th></th>\n",
              "    </tr>\n",
              "  </thead>\n",
              "  <tbody>\n",
              "    <tr>\n",
              "      <th>Nintendo</th>\n",
              "      <td>815.75</td>\n",
              "    </tr>\n",
              "    <tr>\n",
              "      <th>Electronic Arts</th>\n",
              "      <td>584.22</td>\n",
              "    </tr>\n",
              "    <tr>\n",
              "      <th>Activision</th>\n",
              "      <td>426.01</td>\n",
              "    </tr>\n",
              "    <tr>\n",
              "      <th>Sony Computer Entertainment</th>\n",
              "      <td>265.22</td>\n",
              "    </tr>\n",
              "    <tr>\n",
              "      <th>Ubisoft</th>\n",
              "      <td>252.81</td>\n",
              "    </tr>\n",
              "    <tr>\n",
              "      <th>...</th>\n",
              "      <td>...</td>\n",
              "    </tr>\n",
              "    <tr>\n",
              "      <th>Riverhillsoft</th>\n",
              "      <td>0.00</td>\n",
              "    </tr>\n",
              "    <tr>\n",
              "      <th>Milestone S.r.l</th>\n",
              "      <td>0.00</td>\n",
              "    </tr>\n",
              "    <tr>\n",
              "      <th>Focus Multimedia</th>\n",
              "      <td>0.00</td>\n",
              "    </tr>\n",
              "    <tr>\n",
              "      <th>Russel</th>\n",
              "      <td>0.00</td>\n",
              "    </tr>\n",
              "    <tr>\n",
              "      <th>Rocket Company</th>\n",
              "      <td>0.00</td>\n",
              "    </tr>\n",
              "  </tbody>\n",
              "</table>\n",
              "<p>576 rows × 1 columns</p>\n",
              "</div>"
            ],
            "text/plain": [
              "                             Ventas_Norte_America_(MDD)\n",
              "Desarrolladora                                         \n",
              "Nintendo                                         815.75\n",
              "Electronic Arts                                  584.22\n",
              "Activision                                       426.01\n",
              "Sony Computer Entertainment                      265.22\n",
              "Ubisoft                                          252.81\n",
              "...                                                 ...\n",
              "Riverhillsoft                                      0.00\n",
              "Milestone S.r.l                                    0.00\n",
              "Focus Multimedia                                   0.00\n",
              "Russel                                             0.00\n",
              "Rocket Company                                     0.00\n",
              "\n",
              "[576 rows x 1 columns]"
            ]
          },
          "metadata": {},
          "execution_count": 177
        }
      ]
    },
    {
      "cell_type": "code",
      "metadata": {
        "colab": {
          "base_uri": "https://localhost:8080/",
          "height": 563
        },
        "id": "ApQ5kZS5HMHq",
        "outputId": "bd48473f-25c3-44ed-ab3b-beb18550384b"
      },
      "source": [
        "bd_des_vts.head(10).plot(kind='bar',figsize=(20,6))\n",
        "plt.title(\"Gráfica 2. Ventas en Norteamérica por desarrolladora\",fontweight=\"bold\")\n",
        "#DUDAS:https://datacarpentry.org/python-ecology-lesson-es/guide/"
      ],
      "execution_count": null,
      "outputs": [
        {
          "output_type": "execute_result",
          "data": {
            "text/plain": [
              "Text(0.5, 1.0, 'Gráfica 2. Ventas en Norteamérica por desarrolladora')"
            ]
          },
          "metadata": {},
          "execution_count": 160
        },
        {
          "output_type": "display_data",
          "data": {
            "image/png": "[encoded data removed]",
            "text/plain": [
              "<Figure size 1440x432 with 1 Axes>"
            ]
          },
          "metadata": {
            "needs_background": "light"
          }
        }
      ]
    },
    {
      "cell_type": "markdown",
      "metadata": {
        "id": "eG3S9EmGHl8L"
      },
      "source": [
        "> En esta gráfica podemos observar claramente como los videojuegos desarrollados por **Nintendo** son los que más ingresos en ventas obtuvieron, generando al menos 815.75 MDD, siguiendo los videojuegos de **Electronic Arts** obteniendo 584.22 MDD y teniendo en 3er lugar los videojuegos de **Activision** con 426.01 MDD.\n",
        "\n",
        "\n",
        "Conociendo las desarrolladoras con mayor proporción de videojuegos en el mercado y mayores ingresos por ventas en Norteamérica, ahora buscaremos saber qué porcentaje ocupa cada género de videojuegos."
      ]
    },
    {
      "cell_type": "code",
      "metadata": {
        "colab": {
          "base_uri": "https://localhost:8080/",
          "height": 499
        },
        "id": "y0ilY0uiwlRD",
        "outputId": "b637263b-8a87-4b2f-90b4-728e2c6b8b81"
      },
      "source": [
        "bdn.Genero.value_counts().plot.pie(autopct=\"%0.1f %%\",figsize=(8,8)).yaxis.labelpad=55\n",
        "plt.title(\"Gráfica 3. Proporción de videojuegos por género\",fontweight=\"bold\")"
      ],
      "execution_count": null,
      "outputs": [
        {
          "output_type": "execute_result",
          "data": {
            "text/plain": [
              "Text(0.5, 1.0, 'Gráfica 3. Proporción de videojuegos por género')"
            ]
          },
          "metadata": {},
          "execution_count": 164
        },
        {
          "output_type": "display_data",
          "data": {
            "image/png": "[encoded data removed]",
            "text/plain": [
              "<Figure size 576x576 with 1 Axes>"
            ]
          },
          "metadata": {}
        }
      ]
    },
    {
      "cell_type": "markdown",
      "metadata": {
        "id": "N-7KbYgb9i0Y"
      },
      "source": [
        "En esta gráfica circular podemos observar la proporción de videojuegos por género que conforman nuestra base de datos, concluyendo que el género más frecuente es el de **Acción** con un 20%, siguiendo el género **Deportes** con 14.1% y teniendo en 3er lugar el genero **Misc** con un 10.3%."
      ]
    },
    {
      "cell_type": "markdown",
      "metadata": {
        "id": "yU4iZA4aDDPt"
      },
      "source": [
        "#####Para realizar el gráfico correspondiente al total de ventas respecto a cada género, tendremos que realizar una agrupación.\n",
        ">Realizaremos una nueva base de datos donde sólo estén las columnas \"Género\" y \"Ventas_Norte_América_(MDD)\".\n",
        "\n",
        "\n"
      ]
    },
    {
      "cell_type": "code",
      "metadata": {
        "colab": {
          "base_uri": "https://localhost:8080/",
          "height": 419
        },
        "id": "GG6XbHPC1QeJ",
        "outputId": "e57a19ef-0cb5-430a-999b-0e7ec787c280"
      },
      "source": [
        "bd_gen= bdn.iloc[:, [4,6]] #Realizamos nueva bd solo con la columna género y ventas en Norteamérica.\n",
        "bd_gen\n",
        "#DUDAS: https://www.analyticslane.com/2019/06/21/seleccionar-filas-y-columnas-en-pandas-con-iloc-y-loc/"
      ],
      "execution_count": null,
      "outputs": [
        {
          "output_type": "execute_result",
          "data": {
            "text/html": [
              "<div>\n",
              "<style scoped>\n",
              "    .dataframe tbody tr th:only-of-type {\n",
              "        vertical-align: middle;\n",
              "    }\n",
              "\n",
              "    .dataframe tbody tr th {\n",
              "        vertical-align: top;\n",
              "    }\n",
              "\n",
              "    .dataframe thead th {\n",
              "        text-align: right;\n",
              "    }\n",
              "</style>\n",
              "<table border=\"1\" class=\"dataframe\">\n",
              "  <thead>\n",
              "    <tr style=\"text-align: right;\">\n",
              "      <th></th>\n",
              "      <th>Genero</th>\n",
              "      <th>Ventas_Norte_America_(MDD)</th>\n",
              "    </tr>\n",
              "  </thead>\n",
              "  <tbody>\n",
              "    <tr>\n",
              "      <th>0</th>\n",
              "      <td>Sports</td>\n",
              "      <td>41.49</td>\n",
              "    </tr>\n",
              "    <tr>\n",
              "      <th>1</th>\n",
              "      <td>Platform</td>\n",
              "      <td>29.08</td>\n",
              "    </tr>\n",
              "    <tr>\n",
              "      <th>2</th>\n",
              "      <td>Racing</td>\n",
              "      <td>15.85</td>\n",
              "    </tr>\n",
              "    <tr>\n",
              "      <th>3</th>\n",
              "      <td>Sports</td>\n",
              "      <td>15.75</td>\n",
              "    </tr>\n",
              "    <tr>\n",
              "      <th>4</th>\n",
              "      <td>Role-Playing</td>\n",
              "      <td>11.27</td>\n",
              "    </tr>\n",
              "    <tr>\n",
              "      <th>...</th>\n",
              "      <td>...</td>\n",
              "      <td>...</td>\n",
              "    </tr>\n",
              "    <tr>\n",
              "      <th>16593</th>\n",
              "      <td>Platform</td>\n",
              "      <td>0.01</td>\n",
              "    </tr>\n",
              "    <tr>\n",
              "      <th>16594</th>\n",
              "      <td>Shooter</td>\n",
              "      <td>0.01</td>\n",
              "    </tr>\n",
              "    <tr>\n",
              "      <th>16595</th>\n",
              "      <td>Racing</td>\n",
              "      <td>0.00</td>\n",
              "    </tr>\n",
              "    <tr>\n",
              "      <th>16596</th>\n",
              "      <td>Puzzle</td>\n",
              "      <td>0.00</td>\n",
              "    </tr>\n",
              "    <tr>\n",
              "      <th>16597</th>\n",
              "      <td>Platform</td>\n",
              "      <td>0.01</td>\n",
              "    </tr>\n",
              "  </tbody>\n",
              "</table>\n",
              "<p>16291 rows × 2 columns</p>\n",
              "</div>"
            ],
            "text/plain": [
              "             Genero  Ventas_Norte_America_(MDD)\n",
              "0            Sports                       41.49\n",
              "1          Platform                       29.08\n",
              "2            Racing                       15.85\n",
              "3            Sports                       15.75\n",
              "4      Role-Playing                       11.27\n",
              "...             ...                         ...\n",
              "16593      Platform                        0.01\n",
              "16594       Shooter                        0.01\n",
              "16595        Racing                        0.00\n",
              "16596        Puzzle                        0.00\n",
              "16597      Platform                        0.01\n",
              "\n",
              "[16291 rows x 2 columns]"
            ]
          },
          "metadata": {},
          "execution_count": 165
        }
      ]
    },
    {
      "cell_type": "markdown",
      "metadata": {
        "id": "t7Y14CnfDoKR"
      },
      "source": [
        "> Ahora con nuestra nueva BD, agruparemos nuestros datos de tal manera que podamos visualizar el total de ventas en (MDD) que cada género de videojuegos obtuvó."
      ]
    },
    {
      "cell_type": "code",
      "metadata": {
        "colab": {
          "base_uri": "https://localhost:8080/",
          "height": 452
        },
        "id": "1Lnl_Nt02G8T",
        "outputId": "9072a533-6704-4b3a-eede-d7b61a2f507d"
      },
      "source": [
        "bd_gen_vts=bd_gen.groupby(['Genero']).sum() #En esta agrupación se muestra una bd con la suma total de ventas en MDD por género.\n",
        "bd_gen_vts=bd_gen_vts.sort_values('Ventas_Norte_America_(MDD)',ascending=False) #Ordenamos de mayor a menor por ventas.\n",
        "bd_gen_vts\n",
        "#DUDAS: https://medium.com/ironhack/data-cleaning-con-pandas-parte-2-a4e1f55e446b\n",
        "#       https://gonzalezgouveia.com/como-usar-matplotlib-%F0%9F%90%8D%F0%9F%92%BB-para-hacer-graficas-python-data-science/#Como_hacer_graficos_de_barras_en_Python"
      ],
      "execution_count": null,
      "outputs": [
        {
          "output_type": "execute_result",
          "data": {
            "text/html": [
              "<div>\n",
              "<style scoped>\n",
              "    .dataframe tbody tr th:only-of-type {\n",
              "        vertical-align: middle;\n",
              "    }\n",
              "\n",
              "    .dataframe tbody tr th {\n",
              "        vertical-align: top;\n",
              "    }\n",
              "\n",
              "    .dataframe thead th {\n",
              "        text-align: right;\n",
              "    }\n",
              "</style>\n",
              "<table border=\"1\" class=\"dataframe\">\n",
              "  <thead>\n",
              "    <tr style=\"text-align: right;\">\n",
              "      <th></th>\n",
              "      <th>Ventas_Norte_America_(MDD)</th>\n",
              "    </tr>\n",
              "    <tr>\n",
              "      <th>Genero</th>\n",
              "      <th></th>\n",
              "    </tr>\n",
              "  </thead>\n",
              "  <tbody>\n",
              "    <tr>\n",
              "      <th>Action</th>\n",
              "      <td>861.77</td>\n",
              "    </tr>\n",
              "    <tr>\n",
              "      <th>Sports</th>\n",
              "      <td>670.09</td>\n",
              "    </tr>\n",
              "    <tr>\n",
              "      <th>Shooter</th>\n",
              "      <td>575.16</td>\n",
              "    </tr>\n",
              "    <tr>\n",
              "      <th>Platform</th>\n",
              "      <td>445.99</td>\n",
              "    </tr>\n",
              "    <tr>\n",
              "      <th>Misc</th>\n",
              "      <td>396.92</td>\n",
              "    </tr>\n",
              "    <tr>\n",
              "      <th>Racing</th>\n",
              "      <td>356.93</td>\n",
              "    </tr>\n",
              "    <tr>\n",
              "      <th>Role-Playing</th>\n",
              "      <td>326.50</td>\n",
              "    </tr>\n",
              "    <tr>\n",
              "      <th>Fighting</th>\n",
              "      <td>220.74</td>\n",
              "    </tr>\n",
              "    <tr>\n",
              "      <th>Simulation</th>\n",
              "      <td>181.78</td>\n",
              "    </tr>\n",
              "    <tr>\n",
              "      <th>Puzzle</th>\n",
              "      <td>122.01</td>\n",
              "    </tr>\n",
              "    <tr>\n",
              "      <th>Adventure</th>\n",
              "      <td>101.93</td>\n",
              "    </tr>\n",
              "    <tr>\n",
              "      <th>Strategy</th>\n",
              "      <td>67.83</td>\n",
              "    </tr>\n",
              "  </tbody>\n",
              "</table>\n",
              "</div>"
            ],
            "text/plain": [
              "              Ventas_Norte_America_(MDD)\n",
              "Genero                                  \n",
              "Action                            861.77\n",
              "Sports                            670.09\n",
              "Shooter                           575.16\n",
              "Platform                          445.99\n",
              "Misc                              396.92\n",
              "Racing                            356.93\n",
              "Role-Playing                      326.50\n",
              "Fighting                          220.74\n",
              "Simulation                        181.78\n",
              "Puzzle                            122.01\n",
              "Adventure                         101.93\n",
              "Strategy                           67.83"
            ]
          },
          "metadata": {},
          "execution_count": 166
        }
      ]
    },
    {
      "cell_type": "code",
      "metadata": {
        "colab": {
          "base_uri": "https://localhost:8080/",
          "height": 473
        },
        "id": "gmhvE8OoCIH1",
        "outputId": "3ce4b262-b9c7-4d03-893b-dec82070371f"
      },
      "source": [
        "bd_gen_vts.plot(kind='bar',figsize=(20,6))\n",
        "plt.title(\"Gráfica 4. Ventas en Norteamérica por género\",fontweight=\"bold\")\n",
        "#DUDAS:https://datacarpentry.org/python-ecology-lesson-es/guide/"
      ],
      "execution_count": null,
      "outputs": [
        {
          "output_type": "execute_result",
          "data": {
            "text/plain": [
              "Text(0.5, 1.0, 'Gráfica 4. Ventas en Norteamérica por género')"
            ]
          },
          "metadata": {},
          "execution_count": 178
        },
        {
          "output_type": "display_data",
          "data": {
            "image/png": "[encoded data removed]",
            "text/plain": [
              "<Figure size 1440x432 with 1 Axes>"
            ]
          },
          "metadata": {
            "needs_background": "light"
          }
        }
      ]
    },
    {
      "cell_type": "markdown",
      "metadata": {
        "id": "NbV8a5y_C07k"
      },
      "source": [
        "> Podemos observar claramente como el género **Acción** fue el género que más ingresos en ventas obtuvo respecto a nuestro ranking, alcanzando los 861.17 MDD, siguiendo el género **Deportes** con 670.09 y teniendo en 3er lugar al género **Disparos** con 575.16 MDD."
      ]
    },
    {
      "cell_type": "markdown",
      "metadata": {
        "id": "8B8NirZU-Rk2"
      },
      "source": [
        "Conociendo las 3 desarrolladoras que más ingresos generaron en Norteamérica (Nintendo, Electronic Arts y Activision) y los 3 géneros más populares (Acción, Deportes y Disparos), ahora revisaremos cuál fue el género de videojuegos que más dinero generó para cada una de las desarrolladoras antes mencionadas: \n",
        "\n",
        "1.   **Nintendo**: \n",
        "\n"
      ]
    },
    {
      "cell_type": "code",
      "metadata": {
        "colab": {
          "base_uri": "https://localhost:8080/",
          "height": 173
        },
        "id": "g-_Ce0YG2lqA",
        "outputId": "cc03058f-867c-4145-f5f5-501b9212f6c9"
      },
      "source": [
        "bd_des_gen_vts= bdn.iloc[:, [4,5,6]] #Realizamos nueva bd con solo las columnas desarrolladora, género y ventas.\n",
        "bd_n=bd_des_gen_vts[bd_des_gen_vts['Desarrolladora']=='Nintendo']\n",
        "bd_n=bd_n.groupby(by=['Desarrolladora','Genero']).sum().sort_values('Ventas_Norte_America_(MDD)',ascending=False)\n",
        "bd_n.head(3)\n",
        "#DUDAS: https://interactivechaos.com/es/manual/tutorial-de-pandas/agrupaciones-en-dataframes"
      ],
      "execution_count": null,
      "outputs": [
        {
          "output_type": "execute_result",
          "data": {
            "text/html": [
              "<div>\n",
              "<style scoped>\n",
              "    .dataframe tbody tr th:only-of-type {\n",
              "        vertical-align: middle;\n",
              "    }\n",
              "\n",
              "    .dataframe tbody tr th {\n",
              "        vertical-align: top;\n",
              "    }\n",
              "\n",
              "    .dataframe thead th {\n",
              "        text-align: right;\n",
              "    }\n",
              "</style>\n",
              "<table border=\"1\" class=\"dataframe\">\n",
              "  <thead>\n",
              "    <tr style=\"text-align: right;\">\n",
              "      <th></th>\n",
              "      <th></th>\n",
              "      <th>Ventas_Norte_America_(MDD)</th>\n",
              "    </tr>\n",
              "    <tr>\n",
              "      <th>Desarrolladora</th>\n",
              "      <th>Genero</th>\n",
              "      <th></th>\n",
              "    </tr>\n",
              "  </thead>\n",
              "  <tbody>\n",
              "    <tr>\n",
              "      <th rowspan=\"3\" valign=\"top\">Nintendo</th>\n",
              "      <th>Platform</th>\n",
              "      <td>219.46</td>\n",
              "    </tr>\n",
              "    <tr>\n",
              "      <th>Role-Playing</th>\n",
              "      <td>105.63</td>\n",
              "    </tr>\n",
              "    <tr>\n",
              "      <th>Sports</th>\n",
              "      <td>98.77</td>\n",
              "    </tr>\n",
              "  </tbody>\n",
              "</table>\n",
              "</div>"
            ],
            "text/plain": [
              "                             Ventas_Norte_America_(MDD)\n",
              "Desarrolladora Genero                                  \n",
              "Nintendo       Platform                          219.46\n",
              "               Role-Playing                      105.63\n",
              "               Sports                             98.77"
            ]
          },
          "metadata": {},
          "execution_count": 141
        }
      ]
    },
    {
      "cell_type": "markdown",
      "metadata": {
        "id": "65WJwahuA-rw"
      },
      "source": [
        "\n",
        "2.   **Electronic arts**: \n",
        "\n"
      ]
    },
    {
      "cell_type": "code",
      "metadata": {
        "colab": {
          "base_uri": "https://localhost:8080/",
          "height": 173
        },
        "id": "TGZg8INNA-sG",
        "outputId": "cf33c99c-f276-4b27-c43c-dbb5e92fcb81"
      },
      "source": [
        "bd_ea=bd_des_gen_vts[bd_des_gen_vts['Desarrolladora']=='Electronic Arts']\n",
        "bd_ea=bd_ea.groupby(by=['Desarrolladora','Genero']).sum().sort_values('Ventas_Norte_America_(MDD)',ascending=False)\n",
        "bd_ea.head(3)"
      ],
      "execution_count": null,
      "outputs": [
        {
          "output_type": "execute_result",
          "data": {
            "text/html": [
              "<div>\n",
              "<style scoped>\n",
              "    .dataframe tbody tr th:only-of-type {\n",
              "        vertical-align: middle;\n",
              "    }\n",
              "\n",
              "    .dataframe tbody tr th {\n",
              "        vertical-align: top;\n",
              "    }\n",
              "\n",
              "    .dataframe thead th {\n",
              "        text-align: right;\n",
              "    }\n",
              "</style>\n",
              "<table border=\"1\" class=\"dataframe\">\n",
              "  <thead>\n",
              "    <tr style=\"text-align: right;\">\n",
              "      <th></th>\n",
              "      <th></th>\n",
              "      <th>Ventas_Norte_America_(MDD)</th>\n",
              "    </tr>\n",
              "    <tr>\n",
              "      <th>Desarrolladora</th>\n",
              "      <th>Genero</th>\n",
              "      <th></th>\n",
              "    </tr>\n",
              "  </thead>\n",
              "  <tbody>\n",
              "    <tr>\n",
              "      <th rowspan=\"3\" valign=\"top\">Electronic Arts</th>\n",
              "      <th>Sports</th>\n",
              "      <td>263.50</td>\n",
              "    </tr>\n",
              "    <tr>\n",
              "      <th>Shooter</th>\n",
              "      <td>81.15</td>\n",
              "    </tr>\n",
              "    <tr>\n",
              "      <th>Racing</th>\n",
              "      <td>75.52</td>\n",
              "    </tr>\n",
              "  </tbody>\n",
              "</table>\n",
              "</div>"
            ],
            "text/plain": [
              "                         Ventas_Norte_America_(MDD)\n",
              "Desarrolladora  Genero                             \n",
              "Electronic Arts Sports                       263.50\n",
              "                Shooter                       81.15\n",
              "                Racing                        75.52"
            ]
          },
          "metadata": {},
          "execution_count": 142
        }
      ]
    },
    {
      "cell_type": "markdown",
      "metadata": {
        "id": "42yiWt4DBXBN"
      },
      "source": [
        "\n",
        "3.   **Activision**: \n",
        "\n"
      ]
    },
    {
      "cell_type": "code",
      "metadata": {
        "colab": {
          "base_uri": "https://localhost:8080/",
          "height": 173
        },
        "id": "agPbI-crBXBO",
        "outputId": "f1772294-bf72-4931-9b79-1920c09cf3d8"
      },
      "source": [
        "bd_a=bd_des_gen_vts[bd_des_gen_vts['Desarrolladora']=='Activision']\n",
        "bd_a=bd_a.groupby(by=['Desarrolladora','Genero']).sum().sort_values('Ventas_Norte_America_(MDD)',ascending=False)\n",
        "bd_a.head(3)"
      ],
      "execution_count": null,
      "outputs": [
        {
          "output_type": "execute_result",
          "data": {
            "text/html": [
              "<div>\n",
              "<style scoped>\n",
              "    .dataframe tbody tr th:only-of-type {\n",
              "        vertical-align: middle;\n",
              "    }\n",
              "\n",
              "    .dataframe tbody tr th {\n",
              "        vertical-align: top;\n",
              "    }\n",
              "\n",
              "    .dataframe thead th {\n",
              "        text-align: right;\n",
              "    }\n",
              "</style>\n",
              "<table border=\"1\" class=\"dataframe\">\n",
              "  <thead>\n",
              "    <tr style=\"text-align: right;\">\n",
              "      <th></th>\n",
              "      <th></th>\n",
              "      <th>Ventas_Norte_America_(MDD)</th>\n",
              "    </tr>\n",
              "    <tr>\n",
              "      <th>Desarrolladora</th>\n",
              "      <th>Genero</th>\n",
              "      <th></th>\n",
              "    </tr>\n",
              "  </thead>\n",
              "  <tbody>\n",
              "    <tr>\n",
              "      <th rowspan=\"3\" valign=\"top\">Activision</th>\n",
              "      <th>Shooter</th>\n",
              "      <td>159.15</td>\n",
              "    </tr>\n",
              "    <tr>\n",
              "      <th>Action</th>\n",
              "      <td>86.83</td>\n",
              "    </tr>\n",
              "    <tr>\n",
              "      <th>Sports</th>\n",
              "      <td>52.19</td>\n",
              "    </tr>\n",
              "  </tbody>\n",
              "</table>\n",
              "</div>"
            ],
            "text/plain": [
              "                        Ventas_Norte_America_(MDD)\n",
              "Desarrolladora Genero                             \n",
              "Activision     Shooter                      159.15\n",
              "               Action                        86.83\n",
              "               Sports                        52.19"
            ]
          },
          "metadata": {},
          "execution_count": 143
        }
      ]
    },
    {
      "cell_type": "markdown",
      "metadata": {
        "id": "zo8QpkMqCZgO"
      },
      "source": [
        "Gracias al análisis previo, obtuvimos la siguiente información sobre los géneros más populares por desarrolladora:\n",
        "\n",
        ">1.   *Nintendo* generó 219.46 MDD en el género Plataforma de sus 815.75 MDD totales (casi un 27% de las ventas obtenidas en Norteamérica).\n",
        ">2.   *Electronic Arts* obtuvó 263.5 MDD en el género Deportes de su total de 584.22 MDD (poco más del 45% de sus ventas).\n",
        ">3.   *Activision* consiguió 159.15 MDD en el género Disparos de sus 426.01 MDD obtenidos en ventas en NA (más del 37%)."
      ]
    },
    {
      "cell_type": "markdown",
      "metadata": {
        "id": "gNIS8vhJnVSC"
      },
      "source": [
        "####**Conclusión global:**\n",
        "Durante el análisis gráfico previo se obtuvo una mejor idea acerca de las cualidades de los videojuegos con mayores ventas globales y en la región de Norte América.\n",
        "\n",
        "Recapitulando, las principales características fueron las siguientes:\n",
        "\n",
        "\n",
        "*   Nintendo, EA y Activision son las 3 desarrolladoras que más ingresos han generado en los géneros de Plataforma, Deportes y Disparos respectivamente.\n",
        "*   El género de videojuegos más frecuente es el de Acción y el que ha generado más ingresos a nivel general.\n",
        "\n",
        "A grandes rasgos podemos concluir que para una desarrolladora o empresa nueva en la industria de los videojuegos esta información le puede ser de utilidad no solamente para conocer las necesidades del mercado sino para tener más certeza al momento de lanzar un nuevo producto. Cabe mencionar que a lo largo del tiempo ha habido muchos cambios no solo en la tecnología sino en los gustos de los videojugadores, es decir, no porque el género de Acción haya sido el más frecuentado en los últimos tiempos significa que se pueda garantizar que seguirá así en un futuro.\n",
        "\n",
        "\n"
      ]
    },
    {
      "cell_type": "markdown",
      "metadata": {
        "id": "mSfE642y0UwJ"
      },
      "source": [
        "###**4. Técnica de minería.**"
      ]
    },
    {
      "cell_type": "markdown",
      "metadata": {
        "id": "y_ZHtTPT0WIn"
      },
      "source": [
        "**Serie de tiempo:**\n",
        ">En este caso lo que queremos hacer son las proyecciones de las ventas de videojuegos desarrollados por 2 de las 3 compañías que más ingresos generaron en Norteamérica, ya que es nuestro mercado objetivo y con la práctica de visualización encontramos que **Nintendo** y **Electronic Arts** han obtenido más ventas en este mercado en los géneros de **Plataforma** y **Deportes** respectivamente. Por lo cual utilizaremos series de tiempo ya que es la técnica más adecuada para hacer proyecciones.\n",
        "\n",
        "Lo primero que haremos es crear una nueva base de datos con las columnas de nuestro interés.\n",
        "Se conservan solo las columnas:\n",
        "*   Año\n",
        "*   Genero\n",
        "*   Desarrolladora\n",
        "*   Ventas_Norte_America_(MDD)\n",
        "\n",
        "\n",
        "Esta base será la que se agrupará por desarrolladora y género para realizar las proyecciones de cada compañía."
      ]
    },
    {
      "cell_type": "code",
      "metadata": {
        "colab": {
          "base_uri": "https://localhost:8080/",
          "height": 204
        },
        "id": "Ucl1KwpLS0fl",
        "outputId": "b4bf9c2d-1374-4841-8dce-a64542f7addb"
      },
      "source": [
        "bdt=bdn.drop(['Ranking','Nombre','Plataforma','Ventas_Globales_(MDD)'],axis=1)\n",
        "bdt.head(5)"
      ],
      "execution_count": 13,
      "outputs": [
        {
          "output_type": "execute_result",
          "data": {
            "text/html": [
              "<div>\n",
              "<style scoped>\n",
              "    .dataframe tbody tr th:only-of-type {\n",
              "        vertical-align: middle;\n",
              "    }\n",
              "\n",
              "    .dataframe tbody tr th {\n",
              "        vertical-align: top;\n",
              "    }\n",
              "\n",
              "    .dataframe thead th {\n",
              "        text-align: right;\n",
              "    }\n",
              "</style>\n",
              "<table border=\"1\" class=\"dataframe\">\n",
              "  <thead>\n",
              "    <tr style=\"text-align: right;\">\n",
              "      <th></th>\n",
              "      <th>Año</th>\n",
              "      <th>Genero</th>\n",
              "      <th>Desarrolladora</th>\n",
              "      <th>Ventas_Norte_America_(MDD)</th>\n",
              "    </tr>\n",
              "  </thead>\n",
              "  <tbody>\n",
              "    <tr>\n",
              "      <th>0</th>\n",
              "      <td>2006.0</td>\n",
              "      <td>Sports</td>\n",
              "      <td>Nintendo</td>\n",
              "      <td>41.49</td>\n",
              "    </tr>\n",
              "    <tr>\n",
              "      <th>1</th>\n",
              "      <td>1985.0</td>\n",
              "      <td>Platform</td>\n",
              "      <td>Nintendo</td>\n",
              "      <td>29.08</td>\n",
              "    </tr>\n",
              "    <tr>\n",
              "      <th>2</th>\n",
              "      <td>2008.0</td>\n",
              "      <td>Racing</td>\n",
              "      <td>Nintendo</td>\n",
              "      <td>15.85</td>\n",
              "    </tr>\n",
              "    <tr>\n",
              "      <th>3</th>\n",
              "      <td>2009.0</td>\n",
              "      <td>Sports</td>\n",
              "      <td>Nintendo</td>\n",
              "      <td>15.75</td>\n",
              "    </tr>\n",
              "    <tr>\n",
              "      <th>4</th>\n",
              "      <td>1996.0</td>\n",
              "      <td>Role-Playing</td>\n",
              "      <td>Nintendo</td>\n",
              "      <td>11.27</td>\n",
              "    </tr>\n",
              "  </tbody>\n",
              "</table>\n",
              "</div>"
            ],
            "text/plain": [
              "      Año        Genero Desarrolladora  Ventas_Norte_America_(MDD)\n",
              "0  2006.0        Sports       Nintendo                       41.49\n",
              "1  1985.0      Platform       Nintendo                       29.08\n",
              "2  2008.0        Racing       Nintendo                       15.85\n",
              "3  2009.0        Sports       Nintendo                       15.75\n",
              "4  1996.0  Role-Playing       Nintendo                       11.27"
            ]
          },
          "metadata": {},
          "execution_count": 13
        }
      ]
    },
    {
      "cell_type": "markdown",
      "metadata": {
        "id": "fhBcsHPAW0qW"
      },
      "source": [
        "####Comenzando por **Nintendo** y los videojuegos desarrollados en el género **Plataforma**:"
      ]
    },
    {
      "cell_type": "code",
      "metadata": {
        "colab": {
          "base_uri": "https://localhost:8080/",
          "height": 235
        },
        "id": "IcBUYjePXL_b",
        "outputId": "3877f550-145b-4b07-92e8-e83c58ef4dab"
      },
      "source": [
        "bd_ntd=bdt[bdt['Desarrolladora']=='Nintendo'] #Primero filtramos por que la Desarrolladora sea Nintendo\n",
        "bd_ntd2=bd_ntd[bd_ntd['Genero']=='Platform'] #Filtro para indicar que el Genero es Plataforma\n",
        "bd_ntd2=bd_ntd2.drop(['Genero','Desarrolladora'],axis=1) #Eliminar columnas extra para poder hacer la serie de tiempo.\n",
        "bd_ntd=bd_ntd2.groupby(by='Año').sum()\n",
        "\n",
        "Año = [1983,1985,1986,1988]\n",
        "for i in range(1989,2016,1):\n",
        "    Año.append(i)\n",
        "bd_ntd.insert(0,\"Año\",Año)\n",
        "\n",
        "bd_ntd=bd_ntd[1995:2015] #Solo tomamos a partir de los años que no presentan ausencia de información.\n",
        "bd_ntd.to_csv(r'Nintendo_Platform.csv', index=False, header=True)\n",
        "bd_ntd.head(5)"
      ],
      "execution_count": 70,
      "outputs": [
        {
          "output_type": "execute_result",
          "data": {
            "text/html": [
              "<div>\n",
              "<style scoped>\n",
              "    .dataframe tbody tr th:only-of-type {\n",
              "        vertical-align: middle;\n",
              "    }\n",
              "\n",
              "    .dataframe tbody tr th {\n",
              "        vertical-align: top;\n",
              "    }\n",
              "\n",
              "    .dataframe thead th {\n",
              "        text-align: right;\n",
              "    }\n",
              "</style>\n",
              "<table border=\"1\" class=\"dataframe\">\n",
              "  <thead>\n",
              "    <tr style=\"text-align: right;\">\n",
              "      <th></th>\n",
              "      <th>Año</th>\n",
              "      <th>Ventas_Norte_America_(MDD)</th>\n",
              "    </tr>\n",
              "    <tr>\n",
              "      <th>Año</th>\n",
              "      <th></th>\n",
              "      <th></th>\n",
              "    </tr>\n",
              "  </thead>\n",
              "  <tbody>\n",
              "    <tr>\n",
              "      <th>1995.0</th>\n",
              "      <td>1995</td>\n",
              "      <td>4.44</td>\n",
              "    </tr>\n",
              "    <tr>\n",
              "      <th>1996.0</th>\n",
              "      <td>1996</td>\n",
              "      <td>9.73</td>\n",
              "    </tr>\n",
              "    <tr>\n",
              "      <th>1997.0</th>\n",
              "      <td>1997</td>\n",
              "      <td>2.24</td>\n",
              "    </tr>\n",
              "    <tr>\n",
              "      <th>1998.0</th>\n",
              "      <td>1998</td>\n",
              "      <td>2.14</td>\n",
              "    </tr>\n",
              "    <tr>\n",
              "      <th>1999.0</th>\n",
              "      <td>1999</td>\n",
              "      <td>6.73</td>\n",
              "    </tr>\n",
              "  </tbody>\n",
              "</table>\n",
              "</div>"
            ],
            "text/plain": [
              "         Año  Ventas_Norte_America_(MDD)\n",
              "Año                                     \n",
              "1995.0  1995                        4.44\n",
              "1996.0  1996                        9.73\n",
              "1997.0  1997                        2.24\n",
              "1998.0  1998                        2.14\n",
              "1999.0  1999                        6.73"
            ]
          },
          "metadata": {},
          "execution_count": 70
        }
      ]
    },
    {
      "cell_type": "markdown",
      "metadata": {
        "id": "Uk8lqlLyZPYo"
      },
      "source": [
        "Visualizamos nuestra serie de tiempo:"
      ]
    },
    {
      "cell_type": "code",
      "metadata": {
        "colab": {
          "base_uri": "https://localhost:8080/",
          "height": 421
        },
        "id": "7IPV_dLtZZyp",
        "outputId": "958e1e40-3b7b-4b9e-e77c-62516931b184"
      },
      "source": [
        "bd_ntd.plot(y='Ventas_Norte_America_(MDD)',x='Año',figsize=(20,6))\n",
        "plt.title(\"Ventas Nintendo - Plataforma\",fontweight=\"bold\")"
      ],
      "execution_count": 71,
      "outputs": [
        {
          "output_type": "execute_result",
          "data": {
            "text/plain": [
              "Text(0.5, 1.0, 'Ventas Nintendo - Plataforma')"
            ]
          },
          "metadata": {},
          "execution_count": 71
        },
        {
          "output_type": "display_data",
          "data": {
            "image/png": "[encoded data removed]",
            "text/plain": [
              "<Figure size 1440x432 with 1 Axes>"
            ]
          },
          "metadata": {
            "needs_background": "light"
          }
        }
      ]
    },
    {
      "cell_type": "markdown",
      "metadata": {
        "id": "Spy0JyyzesD-"
      },
      "source": [
        "#####Paso 1: CLASIFICACIÓN\n",
        ">Tenemos que revisar si nuestra serie de tiempo no presenta cambios y es estacionaria por media y por varianza. Si cumple estacionariedad  en ambas, decimos que es *estacionaria*, si no, tendremos que realizar algunas modificaciones para conseguirlo.\n",
        "\n",
        "*   Media\n",
        "    \n",
        "    Hipotésis nula = H0: No es un modelo significativo (B1 = 0). No tiene tendencia. \n",
        "    \n",
        "    Hipotésis alternativa = Ha: Si es un modelo significativo (B1 <> 0). Tiene tendencia.\n",
        "\n",
        "> Bloque con sangría\n",
        "\n"
      ]
    },
    {
      "cell_type": "code",
      "metadata": {
        "id": "FJJOy4Cz3cJA"
      },
      "source": [
        " %load_ext rpy2.ipython"
      ],
      "execution_count": 15,
      "outputs": []
    },
    {
      "cell_type": "code",
      "metadata": {
        "id": "gTMHqByi3xyP"
      },
      "source": [
        "%%R\n",
        "install.packages(\"tseries\")\n",
        "library(tseries)"
      ],
      "execution_count": null,
      "outputs": []
    },
    {
      "cell_type": "code",
      "metadata": {
        "colab": {
          "base_uri": "https://localhost:8080/"
        },
        "id": "sbbmpULEGZCo",
        "outputId": "e6fb2fd1-5e5c-4108-d682-5129b81851be"
      },
      "source": [
        "%%R\n",
        "db<-read.csv(\"Nintendo_Platform.csv\",sep=\",\",header=T)\n",
        "db\n",
        "\n",
        "sdb<-ts(db$Ventas_Norte_America_.MDD.,start=1988,end=2015)\n",
        "\n",
        "    t1 <- lm(sdb~time(sdb))\n",
        "    summary(t1)"
      ],
      "execution_count": 99,
      "outputs": [
        {
          "output_type": "stream",
          "name": "stdout",
          "text": [
            "\n",
            "Call:\n",
            "lm(formula = sdb ~ time(sdb))\n",
            "\n",
            "Residuals:\n",
            "    Min      1Q  Median      3Q     Max \n",
            "-4.0721 -2.9875 -0.2136  1.9563  8.7296 \n",
            "\n",
            "Coefficients:\n",
            "             Estimate Std. Error t value Pr(>|t|)\n",
            "(Intercept)  69.85432  164.86447   0.424    0.675\n",
            "time(sdb)    -0.03196    0.08237  -0.388    0.701\n",
            "\n",
            "Residual standard error: 3.521 on 26 degrees of freedom\n",
            "Multiple R-squared:  0.005759,\tAdjusted R-squared:  -0.03248 \n",
            "F-statistic: 0.1506 on 1 and 26 DF,  p-value: 0.7011\n",
            "\n"
          ]
        }
      ]
    },
    {
      "cell_type": "markdown",
      "metadata": {
        "id": "bWBHer2wIdvC"
      },
      "source": [
        ">Como se obtuvo un *p valor* = 0.7011 > *alfa*=0.05, **NO** rechazamos H0. Ahora sabemos que la serie es estacionaria en media."
      ]
    },
    {
      "cell_type": "markdown",
      "metadata": {
        "id": "38xL5BJiGnTT"
      },
      "source": [
        "*  Varianza\n",
        "\n",
        "    H0: NO es estacionaria en varianza\n",
        "\n",
        "    Ha: Es estacionaria en varianza"
      ]
    },
    {
      "cell_type": "code",
      "metadata": {
        "colab": {
          "base_uri": "https://localhost:8080/"
        },
        "id": "CtXN1RvuGpT7",
        "outputId": "b5203074-8438-48b2-9a28-38fb8e8650ab"
      },
      "source": [
        "%%R\n",
        "adf.test(sdb)"
      ],
      "execution_count": 102,
      "outputs": [
        {
          "output_type": "stream",
          "name": "stdout",
          "text": [
            "\n",
            "\tAugmented Dickey-Fuller Test\n",
            "\n",
            "data:  sdb\n",
            "Dickey-Fuller = -2.1176, Lag order = 3, p-value = 0.5275\n",
            "alternative hypothesis: stationary\n",
            "\n"
          ]
        }
      ]
    },
    {
      "cell_type": "markdown",
      "metadata": {
        "id": "fMsFeu-JI0_E"
      },
      "source": [
        ">Como se obtuvo un *p valor*=0.5275 > *alfa*=0.05 **NO** rechazamos HO. La serie NO es estacionaria en varianza.\n",
        "\n",
        ">>**Clasificación final:** Serie *NO estacionaria* por varianza.\n",
        "\n",
        ">Recurrimos a una corrección para conseguir que nuestra serie sea estacionaria y volvemos a revisar cambios en media y en varianza."
      ]
    },
    {
      "cell_type": "markdown",
      "metadata": {
        "id": "XUFuBdv5JuL3"
      },
      "source": [
        "#####PASO 2: CORRECCIONES (solo si son necesarias)"
      ]
    },
    {
      "cell_type": "code",
      "metadata": {
        "colab": {
          "base_uri": "https://localhost:8080/"
        },
        "id": "7nqecYoDIwcK",
        "outputId": "8434d8e1-c590-4e84-97d6-3bdea2e19361"
      },
      "source": [
        "%%R\n",
        "  c1<- diff(sdb)\n",
        "    #Varianza\n",
        "      #Ho: NO estacionaria en varianza\n",
        "      #Ha: Estacionaria en varianza     \n",
        "      adf.test(c1)"
      ],
      "execution_count": 103,
      "outputs": [
        {
          "output_type": "stream",
          "name": "stdout",
          "text": [
            "\n",
            "\tAugmented Dickey-Fuller Test\n",
            "\n",
            "data:  c1\n",
            "Dickey-Fuller = -3.9296, Lag order = 2, p-value = 0.02604\n",
            "alternative hypothesis: stationary\n",
            "\n"
          ]
        }
      ]
    },
    {
      "cell_type": "markdown",
      "metadata": {
        "id": "Nv67X6FWKFsY"
      },
      "source": [
        ">Como ya habíamos logrado estacionariedad en media, no fue necesario revisarlo otra vez. \n",
        "Después de la corrección, se consiguió estacionariedad en varianza ya que se obtuvo un *p valor*=0.026 < *alfa*=0.05 y así se rechazó la hipotésis nula.\n",
        ">>**Clasificación final:** Serie *estacionaria* por media y por varianza.\n",
        "\n",
        ">Ya podemos pasar al modelado de la serie."
      ]
    },
    {
      "cell_type": "markdown",
      "metadata": {
        "id": "iKXLJ3ejLPGE"
      },
      "source": [
        "#####PASO 3: MODELADO\n",
        ">Se procede a encontrar el mejor modelo ARMA(p,q) para nuestra serie estacionaria."
      ]
    },
    {
      "cell_type": "code",
      "metadata": {
        "colab": {
          "base_uri": "https://localhost:8080/"
        },
        "id": "NH7sN5GHLoJW",
        "outputId": "e2acc780-ca12-43c5-90eb-64daf3b641e5"
      },
      "source": [
        "%%R\n",
        "      mejor.AIC.ARMA<-Inf\n",
        "      for(j in 0:10){\n",
        "        for(i in 0:10){\n",
        "          y<-AIC(arima(c1,order=c(j,0,i),method=\"ML\"))\n",
        "          \n",
        "          if(y<mejor.AIC.ARMA){\n",
        "            mejor.AIC.ARMA<-y #Guardamos AIC\n",
        "            pq<-c(j,i) #Guardando el orden\n",
        "          }\n",
        "        }\n",
        "      }\n",
        "      pq"
      ],
      "execution_count": 104,
      "outputs": [
        {
          "output_type": "stream",
          "name": "stdout",
          "text": [
            "[1] 0 4\n"
          ]
        }
      ]
    },
    {
      "cell_type": "code",
      "metadata": {
        "colab": {
          "base_uri": "https://localhost:8080/"
        },
        "id": "2svrYJsTMVf3",
        "outputId": "456e0e91-295f-4fa0-cd37-22a6ed94ca7e"
      },
      "source": [
        "%%R\n",
        "mejor.AIC.ARMA "
      ],
      "execution_count": 105,
      "outputs": [
        {
          "output_type": "stream",
          "name": "stdout",
          "text": [
            "[1] 152.7032\n"
          ]
        }
      ]
    },
    {
      "cell_type": "markdown",
      "metadata": {
        "id": "iIumA1xAML9V"
      },
      "source": [
        ">Se encontró que el mejor modelo para la serie es un ARMA(0,4) con un AIC=152.7032"
      ]
    },
    {
      "cell_type": "markdown",
      "metadata": {
        "id": "ZXA2UCI-LPvb"
      },
      "source": [
        "#####PASO 4: PREDICCIONES"
      ]
    },
    {
      "cell_type": "code",
      "metadata": {
        "colab": {
          "base_uri": "https://localhost:8080/",
          "height": 497
        },
        "id": "yCsCf0pzKIXq",
        "outputId": "0493b27b-f50d-4ab8-b4db-75c8e1f2febb"
      },
      "source": [
        "%%R\n",
        "  plot(sdb,xlim=c(1995,2025),main=\"Predicciones de ventas de Nintendo en Plataforma\",ylab=\"MDD\")\n",
        "  pg1<-predict(arima(sdb,order=c(0,1,4),method=\"ML\"),n.ahead=10)$pred\n",
        "  lines(pg1,col=\"magenta\",lwd=2)  \n",
        "  abline(t1,col=\"blue\")  \n",
        "  legend(x = \"topright\", legend = c(\"Tendencia\", \"Predicciones\"), col= c(\"blue\", \"magenta\"),lty=1,lwd=2)"
      ],
      "execution_count": 100,
      "outputs": [
        {
          "output_type": "display_data",
          "data": {
            "image/png": "[encoded data removed]"
          },
          "metadata": {}
        }
      ]
    },
    {
      "cell_type": "markdown",
      "metadata": {
        "id": "x77NSbuaqH6T"
      },
      "source": [
        ">Interpretando la grafica de nuestra prediccion podemos decir que las ventas de Nintendo en el genero de Plataformas no van a sufrir caídas fuertes, y puede que se mantengan en niveles estables por 5 años. Esto se debe a que nuestro modelo no tiene coeficientes autoregresivos por lo tanto no influyen de una manera tan grande los valores pasados."
      ]
    },
    {
      "cell_type": "markdown",
      "metadata": {
        "id": "Ypx8rR3YOvVw"
      },
      "source": [
        "####Continuando con **Electronic Arts** y los videojuegos desarrollados en el género **Deportes**:"
      ]
    },
    {
      "cell_type": "code",
      "metadata": {
        "colab": {
          "base_uri": "https://localhost:8080/",
          "height": 235
        },
        "id": "Ge2tfKa9OvV2",
        "outputId": "89df4341-772b-4284-cdce-9bc9d998eed8"
      },
      "source": [
        "bd_ela=bdt[bdt['Desarrolladora']=='Electronic Arts'] #Primero filtramos por que la Desarrolladora sea Electronic Arts\n",
        "bd_ela2=bd_ela[bd_ela['Genero']=='Sports'] #Filtro para indicar que el Genero es Deportes\n",
        "bd_ela2=bd_ela2.drop(['Genero','Desarrolladora'],axis=1) #Eliminar columnas extra para poder hacer la serie de tiempo.\n",
        "bd_ela=bd_ela2.groupby(by='Año').sum()\n",
        "\n",
        "Año = [1995]\n",
        "for i in range(1996,2017,1):\n",
        "    Año.append(i)\n",
        "bd_ela.insert(0,\"Año\",Año)\n",
        "\n",
        "bd_ela.to_csv(r'EA_Sports.csv', index=False, header=True)\n",
        "\n",
        "bd_ela.head(5)"
      ],
      "execution_count": 27,
      "outputs": [
        {
          "output_type": "execute_result",
          "data": {
            "text/html": [
              "<div>\n",
              "<style scoped>\n",
              "    .dataframe tbody tr th:only-of-type {\n",
              "        vertical-align: middle;\n",
              "    }\n",
              "\n",
              "    .dataframe tbody tr th {\n",
              "        vertical-align: top;\n",
              "    }\n",
              "\n",
              "    .dataframe thead th {\n",
              "        text-align: right;\n",
              "    }\n",
              "</style>\n",
              "<table border=\"1\" class=\"dataframe\">\n",
              "  <thead>\n",
              "    <tr style=\"text-align: right;\">\n",
              "      <th></th>\n",
              "      <th>Año</th>\n",
              "      <th>Ventas_Norte_America_(MDD)</th>\n",
              "    </tr>\n",
              "    <tr>\n",
              "      <th>Año</th>\n",
              "      <th></th>\n",
              "      <th></th>\n",
              "    </tr>\n",
              "  </thead>\n",
              "  <tbody>\n",
              "    <tr>\n",
              "      <th>1995.0</th>\n",
              "      <td>1995</td>\n",
              "      <td>0.22</td>\n",
              "    </tr>\n",
              "    <tr>\n",
              "      <th>1996.0</th>\n",
              "      <td>1996</td>\n",
              "      <td>1.95</td>\n",
              "    </tr>\n",
              "    <tr>\n",
              "      <th>1997.0</th>\n",
              "      <td>1997</td>\n",
              "      <td>8.04</td>\n",
              "    </tr>\n",
              "    <tr>\n",
              "      <th>1998.0</th>\n",
              "      <td>1998</td>\n",
              "      <td>9.05</td>\n",
              "    </tr>\n",
              "    <tr>\n",
              "      <th>1999.0</th>\n",
              "      <td>1999</td>\n",
              "      <td>2.91</td>\n",
              "    </tr>\n",
              "  </tbody>\n",
              "</table>\n",
              "</div>"
            ],
            "text/plain": [
              "         Año  Ventas_Norte_America_(MDD)\n",
              "Año                                     \n",
              "1995.0  1995                        0.22\n",
              "1996.0  1996                        1.95\n",
              "1997.0  1997                        8.04\n",
              "1998.0  1998                        9.05\n",
              "1999.0  1999                        2.91"
            ]
          },
          "metadata": {},
          "execution_count": 27
        }
      ]
    },
    {
      "cell_type": "markdown",
      "metadata": {
        "id": "oi4HaujROvV2"
      },
      "source": [
        "Visualizamos nuestra serie de tiempo:"
      ]
    },
    {
      "cell_type": "code",
      "metadata": {
        "colab": {
          "base_uri": "https://localhost:8080/",
          "height": 421
        },
        "id": "57t-2VVTOvV3",
        "outputId": "ccdd5f32-12d8-4560-946c-1a3a3591c0b4"
      },
      "source": [
        "bd_ela.plot(y='Ventas_Norte_America_(MDD)',x='Año',figsize=(20,6))\n",
        "plt.title(\"Ventas Electronic Arts (EA) - Deportes\",fontweight=\"bold\")"
      ],
      "execution_count": null,
      "outputs": [
        {
          "output_type": "execute_result",
          "data": {
            "text/plain": [
              "Text(0.5, 1.0, 'Ventas Electronic Arts (EA) - Deportes')"
            ]
          },
          "metadata": {},
          "execution_count": 189
        },
        {
          "output_type": "display_data",
          "data": {
            "image/png": "[encoded data removed]",
            "text/plain": [
              "<Figure size 1440x432 with 1 Axes>"
            ]
          },
          "metadata": {
            "needs_background": "light"
          }
        }
      ]
    },
    {
      "cell_type": "markdown",
      "metadata": {
        "id": "u-FcR-edOvV3"
      },
      "source": [
        "#####Paso 1: CLASIFICACIÓN\n",
        ">Tenemos que revisar si nuestra serie de tiempo no presenta cambios y es estacionaria por media y por varianza. Si cumple estacionariedad  en ambas, decimos que es *estacionaria*, si no, tendremos que realizar algunas modificaciones para conseguirlo.\n",
        "\n",
        "*   Media\n",
        "    \n",
        "    Hipotésis nula = H0: No es un modelo significativo (B1 = 0). No tiene tendencia. \n",
        "    \n",
        "    Hipotésis alternativa = Ha: Si es un modelo significativo (B1 <> 0). Tiene tendencia."
      ]
    },
    {
      "cell_type": "code",
      "metadata": {
        "colab": {
          "base_uri": "https://localhost:8080/"
        },
        "id": "Suk5FxTXOvV3",
        "outputId": "cc48cbca-3d56-4337-a977-28b50a9e5c7a"
      },
      "source": [
        "%%R\n",
        "db2<-read.csv(\"EA_Sports.csv\",sep=\",\",header=T)\n",
        "db2\n",
        "\n",
        "sdb2<-ts(db2$Ventas_Norte_America_.MDD.,start=1995,end=2016)\n",
        "\n",
        "    t2 <- lm(sdb2~time(sdb2))\n",
        "    summary(t2)"
      ],
      "execution_count": 106,
      "outputs": [
        {
          "output_type": "stream",
          "name": "stdout",
          "text": [
            "\n",
            "Call:\n",
            "lm(formula = sdb2 ~ time(sdb2))\n",
            "\n",
            "Residuals:\n",
            "    Min      1Q  Median      3Q     Max \n",
            "-11.783  -4.455  -1.279   4.490  11.587 \n",
            "\n",
            "Coefficients:\n",
            "             Estimate Std. Error t value Pr(>|t|)\n",
            "(Intercept) -527.7978   440.9838  -1.197    0.245\n",
            "time(sdb2)     0.2691     0.2199   1.224    0.235\n",
            "\n",
            "Residual standard error: 6.543 on 20 degrees of freedom\n",
            "Multiple R-squared:  0.06969,\tAdjusted R-squared:  0.02318 \n",
            "F-statistic: 1.498 on 1 and 20 DF,  p-value: 0.2352\n",
            "\n"
          ]
        }
      ]
    },
    {
      "cell_type": "markdown",
      "metadata": {
        "id": "7TRBwHRuOvV3"
      },
      "source": [
        ">Como se obtuvo un *p valor* = 0.2352 > *alfa*=0.05, **NO** rechazamos H0. Ahora sabemos que la serie es estacionaria en media."
      ]
    },
    {
      "cell_type": "markdown",
      "metadata": {
        "id": "NMbBNcehOvV3"
      },
      "source": [
        "*  Varianza\n",
        "\n",
        "    H0: NO es estacionaria en varianza\n",
        "\n",
        "    Ha: Es estacionaria en varianza"
      ]
    },
    {
      "cell_type": "code",
      "metadata": {
        "colab": {
          "base_uri": "https://localhost:8080/"
        },
        "id": "xnkLUCDqOvV3",
        "outputId": "83bf7ec6-bd5f-45b7-b4de-4dbe9e30e1c4"
      },
      "source": [
        "%%R\n",
        "adf.test(sdb2)"
      ],
      "execution_count": 107,
      "outputs": [
        {
          "output_type": "stream",
          "name": "stdout",
          "text": [
            "\n",
            "\tAugmented Dickey-Fuller Test\n",
            "\n",
            "data:  sdb2\n",
            "Dickey-Fuller = -0.054006, Lag order = 2, p-value = 0.99\n",
            "alternative hypothesis: stationary\n",
            "\n"
          ]
        }
      ]
    },
    {
      "cell_type": "markdown",
      "metadata": {
        "id": "4HSkStQdOvV3"
      },
      "source": [
        ">Como se obtuvo un p valor=0.99 > alfa=0.05 **NO** rechazamos HO. La serie NO es estacionaria en varianza.\n",
        "\n",
        ">>**Clasificación final:** Serie *NO estacionaria* por varianza.\n",
        "\n",
        ">En esta serie también recurrimos a una corrección para conseguir que sea estacionaria y volvemos a revisar cambios en media y en varianza."
      ]
    },
    {
      "cell_type": "markdown",
      "metadata": {
        "id": "G0a5bg0yOvV4"
      },
      "source": [
        "#####PASO 2: CORRECCIONES (solo si son necesarias)\n",
        "\n",
        "\n",
        "*   Corrección 1:"
      ]
    },
    {
      "cell_type": "code",
      "metadata": {
        "colab": {
          "base_uri": "https://localhost:8080/"
        },
        "id": "_yLemdmpOvV4",
        "outputId": "bdc6abf3-3f54-4160-a360-a81adf1ec68e"
      },
      "source": [
        "%%R\n",
        "  c1<- diff(sdb2)\n",
        "    #Varianza\n",
        "      #Ho: NO estacionaria en varianza\n",
        "      #Ha: Estacionaria en varianza\n",
        "      adf.test(c1)"
      ],
      "execution_count": 108,
      "outputs": [
        {
          "output_type": "stream",
          "name": "stdout",
          "text": [
            "\n",
            "\tAugmented Dickey-Fuller Test\n",
            "\n",
            "data:  c1\n",
            "Dickey-Fuller = -2.6817, Lag order = 2, p-value = 0.3127\n",
            "alternative hypothesis: stationary\n",
            "\n"
          ]
        }
      ]
    },
    {
      "cell_type": "markdown",
      "metadata": {
        "id": "RiPZOKWxOvV4"
      },
      "source": [
        ">Como ya habíamos logrado estacionariedad en media, no fue necesario revisarlo otra vez. \n",
        "Después de la corrección, NO se consiguió estacionariedad en varianza ya que se obtuvo un *p valor*=0.3127 > *alfa*=0.05. Tenemos que recurrir a otra diferenciación."
      ]
    },
    {
      "cell_type": "markdown",
      "metadata": {
        "id": "6-TkwpSlRqYF"
      },
      "source": [
        "*   Corrección 2:"
      ]
    },
    {
      "cell_type": "code",
      "metadata": {
        "colab": {
          "base_uri": "https://localhost:8080/"
        },
        "id": "RhTbzzZrRNEK",
        "outputId": "963353ac-7d14-4d5b-d71e-7644b8ff83f6"
      },
      "source": [
        "%%R\n",
        "  c2<- diff(c1)\n",
        "    #Varianza\n",
        "      #Ho: NO estacionaria en varianza\n",
        "      #Ha: Estacionaria en varianza\n",
        "      adf.test(c2)"
      ],
      "execution_count": 109,
      "outputs": [
        {
          "output_type": "stream",
          "name": "stdout",
          "text": [
            "\n",
            "\tAugmented Dickey-Fuller Test\n",
            "\n",
            "data:  c2\n",
            "Dickey-Fuller = -4.4969, Lag order = 2, p-value = 0.01\n",
            "alternative hypothesis: stationary\n",
            "\n"
          ]
        }
      ]
    },
    {
      "cell_type": "markdown",
      "metadata": {
        "id": "C95Zh5tPRfG-"
      },
      "source": [
        ">Como ya habíamos logrado estacionariedad en media, no fue necesario revisarlo otra vez. \n",
        "Después de la segunda corrección, se consiguió estacionariedad en varianza ya que se obtuvo un *p valor*=0.01 < *alfa*=0.05 y así se rechazó la hipotésis nula.\n",
        ">>**Clasificación final:** Serie *estacionaria* por media y por varianza.\n",
        "\n",
        ">Ya podemos pasar al modelado de la serie."
      ]
    },
    {
      "cell_type": "markdown",
      "metadata": {
        "id": "EGVnW0G8OvV4"
      },
      "source": [
        "#####PASO 3: MODELADO\n",
        ">Se procede a encontrar el mejor modelo ARMA(p,q) para nuestra serie estacionaria."
      ]
    },
    {
      "cell_type": "code",
      "metadata": {
        "colab": {
          "base_uri": "https://localhost:8080/"
        },
        "id": "Um4BW4EzOvV5",
        "outputId": "d78c8913-c59a-4313-cb59-095c91f77149"
      },
      "source": [
        "%%R\n",
        "      mejor.AIC.ARMA<-Inf\n",
        "      for(j in 0:10){\n",
        "        for(i in 0:10){\n",
        "          y<-AIC(arima(c2,order=c(j,0,i),method=\"ML\"))\n",
        "          \n",
        "          if(y<mejor.AIC.ARMA){\n",
        "            mejor.AIC.ARMA<-y #Guardamos AIC\n",
        "            pq2<-c(j,i) #Guardando el orden\n",
        "          }\n",
        "        }\n",
        "      }\n",
        "      pq2 "
      ],
      "execution_count": 110,
      "outputs": [
        {
          "output_type": "stream",
          "name": "stdout",
          "text": [
            "[1] 0 3\n"
          ]
        }
      ]
    },
    {
      "cell_type": "code",
      "metadata": {
        "colab": {
          "base_uri": "https://localhost:8080/"
        },
        "id": "Aiqs5W3YOvV5",
        "outputId": "81e3f991-df04-40b0-ba5a-e316e966795c"
      },
      "source": [
        "%%R\n",
        "mejor.AIC.ARMA "
      ],
      "execution_count": 111,
      "outputs": [
        {
          "output_type": "stream",
          "name": "stdout",
          "text": [
            "[1] 110.3673\n"
          ]
        }
      ]
    },
    {
      "cell_type": "markdown",
      "metadata": {
        "id": "55vBMb9XOvV5"
      },
      "source": [
        ">Se encontró que el mejor modelo para la serie es un ARMA(0,3) con un AIC=110.36"
      ]
    },
    {
      "cell_type": "markdown",
      "metadata": {
        "id": "Gji-uYQAOvV5"
      },
      "source": [
        "#####PASO 4: PREDICCIONES"
      ]
    },
    {
      "cell_type": "code",
      "metadata": {
        "colab": {
          "base_uri": "https://localhost:8080/",
          "height": 497
        },
        "id": "WJaKPV39OvV6",
        "outputId": "4e84f407-da1a-49f6-ebb1-a2133e8b8f98"
      },
      "source": [
        "%%R\n",
        "  plot(sdb2,xlim=c(1995,2026),ylim=c(-25,25),ylab=\"Ventas en NA en MDD\")\n",
        "  title(\"Predicciones para las ventas de EA en Deportes\")\n",
        "  pg2<-predict(arima(sdb2,order=c(0,2,3),method=\"ML\"),n.ahead=10)$pred\n",
        "  abline(h=0)\n",
        "  lines(pg2,col=\"red\",lwd=2)  \n",
        "  abline(t2,col=\"darkgreen\")  \n",
        "  legend(x = \"topright\", legend = c(\"Tendencia\", \"Predicciones\"), col= c(\"darkgreen\", \"red\"),lty=1,lwd=2)\n",
        "  "
      ],
      "execution_count": 114,
      "outputs": [
        {
          "output_type": "display_data",
          "data": {
            "image/png": "[encoded data removed]"
          },
          "metadata": {}
        }
      ]
    },
    {
      "cell_type": "markdown",
      "metadata": {
        "id": "8PVEdLObskBT"
      },
      "source": [
        ">Gracias a la gráfica anterior, podemos notar que las ventas de Electronic Arts en el género de Deportes van a sufrir una fuerte caída. Si bien no existen las ventas negativas como nos arroja nuestro modelo, estas ventas podrían interpretarse como un declive. Esto pensamos que se debe a que el mercado de videojuegos de deportes ha sido uno donde no se ha innovado tanto con respecto a las mecanicas de juego, por lo que creemos que esto debe de ser algo en lo que se deben de enfocar los desarrolladores de este género."
      ]
    },
    {
      "cell_type": "markdown",
      "metadata": {
        "id": "8wDHb_hDZnWi"
      },
      "source": [
        "####Por último, revisaremos las predicciones de ventas de Nintendo (Desarrolladora que presentó mayores ventas en Norteamérica) en el género Acción (el más vendido):"
      ]
    },
    {
      "cell_type": "code",
      "metadata": {
        "colab": {
          "base_uri": "https://localhost:8080/",
          "height": 235
        },
        "id": "GI8IQi6WZnWi",
        "outputId": "b9e2a5f4-77d7-48ac-fddd-8ebeeab12d9f"
      },
      "source": [
        "bd_ntd_ac=bdt[bdt['Desarrolladora']=='Nintendo'] #Primero filtramos por que la Desarrolladora sea Nintendo\n",
        "bd_ntd_ac2=bd_ntd_ac[bd_ntd_ac['Genero']=='Action'] #Filtro para indicar que el Genero es Acción\n",
        "bd_ntd_ac2=bd_ntd_ac2.drop(['Genero','Desarrolladora'],axis=1) #Eliminar columnas extra para poder hacer la serie de tiempo.\n",
        "bd_ntd_ac=bd_ntd_ac2.groupby(by='Año').sum()\n",
        "\n",
        "Año_n = [1984,1985,1986,1991,1992,1994]\n",
        "for i in range(1996,2016,1):\n",
        "    Año_n.append(i)\n",
        "bd_ntd_ac.insert(0,\"Año\",Año_n)\n",
        "\n",
        "bd_ntd_ac=bd_ntd_ac[1996:2016]\n",
        "bd_ntd_ac.to_csv(r'Nintendo_Action.csv', index=False, header=True)\n",
        "\n",
        "bd_ntd_ac.head(5)"
      ],
      "execution_count": 88,
      "outputs": [
        {
          "output_type": "execute_result",
          "data": {
            "text/html": [
              "<div>\n",
              "<style scoped>\n",
              "    .dataframe tbody tr th:only-of-type {\n",
              "        vertical-align: middle;\n",
              "    }\n",
              "\n",
              "    .dataframe tbody tr th {\n",
              "        vertical-align: top;\n",
              "    }\n",
              "\n",
              "    .dataframe thead th {\n",
              "        text-align: right;\n",
              "    }\n",
              "</style>\n",
              "<table border=\"1\" class=\"dataframe\">\n",
              "  <thead>\n",
              "    <tr style=\"text-align: right;\">\n",
              "      <th></th>\n",
              "      <th>Año</th>\n",
              "      <th>Ventas_Norte_America_(MDD)</th>\n",
              "    </tr>\n",
              "    <tr>\n",
              "      <th>Año</th>\n",
              "      <th></th>\n",
              "      <th></th>\n",
              "    </tr>\n",
              "  </thead>\n",
              "  <tbody>\n",
              "    <tr>\n",
              "      <th>1996.0</th>\n",
              "      <td>1996</td>\n",
              "      <td>2.00</td>\n",
              "    </tr>\n",
              "    <tr>\n",
              "      <th>1997.0</th>\n",
              "      <td>1997</td>\n",
              "      <td>0.39</td>\n",
              "    </tr>\n",
              "    <tr>\n",
              "      <th>1998.0</th>\n",
              "      <td>1998</td>\n",
              "      <td>4.10</td>\n",
              "    </tr>\n",
              "    <tr>\n",
              "      <th>1999.0</th>\n",
              "      <td>1999</td>\n",
              "      <td>0.62</td>\n",
              "    </tr>\n",
              "    <tr>\n",
              "      <th>2000.0</th>\n",
              "      <td>2000</td>\n",
              "      <td>3.45</td>\n",
              "    </tr>\n",
              "  </tbody>\n",
              "</table>\n",
              "</div>"
            ],
            "text/plain": [
              "         Año  Ventas_Norte_America_(MDD)\n",
              "Año                                     \n",
              "1996.0  1996                        2.00\n",
              "1997.0  1997                        0.39\n",
              "1998.0  1998                        4.10\n",
              "1999.0  1999                        0.62\n",
              "2000.0  2000                        3.45"
            ]
          },
          "metadata": {},
          "execution_count": 88
        }
      ]
    },
    {
      "cell_type": "markdown",
      "metadata": {
        "id": "FDUXpL0_ZnWi"
      },
      "source": [
        "Visualizamos nuestra serie de tiempo:"
      ]
    },
    {
      "cell_type": "code",
      "metadata": {
        "colab": {
          "base_uri": "https://localhost:8080/",
          "height": 421
        },
        "id": "uQ0-hAtAZnWj",
        "outputId": "18c01cf0-47a7-4e3f-ec3a-5240b6f74419"
      },
      "source": [
        "bd_ntd_ac.plot(y='Ventas_Norte_America_(MDD)',x='Año',figsize=(20,6))\n",
        "plt.title(\"Nintendo - Acción\",fontweight=\"bold\")"
      ],
      "execution_count": 89,
      "outputs": [
        {
          "output_type": "execute_result",
          "data": {
            "text/plain": [
              "Text(0.5, 1.0, 'Nintendo - Acción')"
            ]
          },
          "metadata": {},
          "execution_count": 89
        },
        {
          "output_type": "display_data",
          "data": {
            "image/png": "[encoded data removed]",
            "text/plain": [
              "<Figure size 1440x432 with 1 Axes>"
            ]
          },
          "metadata": {
            "needs_background": "light"
          }
        }
      ]
    },
    {
      "cell_type": "markdown",
      "metadata": {
        "id": "sd8CpAlzZnWj"
      },
      "source": [
        "#####Paso 1: CLASIFICACIÓN\n",
        ">Tenemos que revisar si nuestra serie de tiempo no presenta cambios y es estacionaria por media y por varianza. Si cumple estacionariedad  en ambas, decimos que es *estacionaria*, si no, tendremos que realizar algunas modificaciones para conseguirlo.\n",
        "\n",
        "*   Media\n",
        "    \n",
        "    Hipotésis nula = H0: No es un modelo significativo (B1 = 0). No tiene tendencia. \n",
        "    \n",
        "    Hipotésis alternativa = Ha: Si es un modelo significativo (B1 <> 0). Tiene tendencia."
      ]
    },
    {
      "cell_type": "code",
      "metadata": {
        "colab": {
          "base_uri": "https://localhost:8080/"
        },
        "id": "hrXZBkecZnWj",
        "outputId": "82e10c7d-8f02-4a5b-d726-5fd152e07be1"
      },
      "source": [
        "%%R\n",
        "db3<-read.csv(\"Nintendo_Action.csv\",sep=\",\",header=T)\n",
        "sdb3<-ts(db3$Ventas_Norte_America_.MDD.,start=1996,end=2015)\n",
        "    t3 <- lm(sdb3~time(sdb3))\n",
        "    print(summary(t3))"
      ],
      "execution_count": 115,
      "outputs": [
        {
          "output_type": "stream",
          "name": "stdout",
          "text": [
            "\n",
            "Call:\n",
            "lm(formula = sdb3 ~ time(sdb3))\n",
            "\n",
            "Residuals:\n",
            "    Min      1Q  Median      3Q     Max \n",
            "-2.5185 -1.3225 -0.6958  1.5587  3.6431 \n",
            "\n",
            "Coefficients:\n",
            "             Estimate Std. Error t value Pr(>|t|)\n",
            "(Intercept)  30.01284  158.27284   0.190    0.852\n",
            "time(sdb3)   -0.01370    0.07892  -0.174    0.864\n",
            "\n",
            "Residual standard error: 2.035 on 18 degrees of freedom\n",
            "Multiple R-squared:  0.001671,\tAdjusted R-squared:  -0.05379 \n",
            "F-statistic: 0.03013 on 1 and 18 DF,  p-value: 0.8641\n",
            "\n"
          ]
        }
      ]
    },
    {
      "cell_type": "markdown",
      "metadata": {
        "id": "YoiM340TZnWj"
      },
      "source": [
        ">Como se obtuvo un *p valor* = 0.8641 > *alfa*=0.05, **NO** rechazamos H0. Ahora sabemos que la serie de Nintendo es estacionaria en media."
      ]
    },
    {
      "cell_type": "markdown",
      "metadata": {
        "id": "j3NRVNYZb-wE"
      },
      "source": [
        "*  Varianza\n",
        "\n",
        "    H0: NO es estacionaria en varianza\n",
        "\n",
        "    Ha: Es estacionaria en varianza"
      ]
    },
    {
      "cell_type": "code",
      "metadata": {
        "colab": {
          "base_uri": "https://localhost:8080/"
        },
        "id": "TNsVkcsOb-wF",
        "outputId": "cf542099-cf81-4b9e-ea31-b9739e4e5083"
      },
      "source": [
        "%%R\n",
        "print(adf.test(sdb3))"
      ],
      "execution_count": 116,
      "outputs": [
        {
          "output_type": "stream",
          "name": "stdout",
          "text": [
            "\n",
            "\tAugmented Dickey-Fuller Test\n",
            "\n",
            "data:  sdb3\n",
            "Dickey-Fuller = -2.3654, Lag order = 2, p-value = 0.4332\n",
            "alternative hypothesis: stationary\n",
            "\n"
          ]
        }
      ]
    },
    {
      "cell_type": "markdown",
      "metadata": {
        "id": "HKv79QsKb-wG"
      },
      "source": [
        ">Como se obtuvo un *p valor*=0.4332 > *alfa*=0.05 **NO** rechazamos HO. La serie de Nintendo es NO estacionaria en varianza.\n",
        "\n",
        ">>**Clasificación final:** Serie *NO estacionaria* por varianza.\n"
      ]
    },
    {
      "cell_type": "markdown",
      "metadata": {
        "id": "9qrlgWi4dV-o"
      },
      "source": [
        "#####PASO 2: CORRECCIONES"
      ]
    },
    {
      "cell_type": "code",
      "metadata": {
        "colab": {
          "base_uri": "https://localhost:8080/"
        },
        "id": "cE1BbtLDOpM0",
        "outputId": "de0c386a-3afc-4397-93e3-66067ee7df44"
      },
      "source": [
        "%%R\n",
        "  c1<- diff(sdb3)\n",
        "    #Varianza\n",
        "      #Ho: NO estacionaria en varianza\n",
        "      #Ha: Estacionaria en varianza\n",
        "      adf.test(c1)"
      ],
      "execution_count": 118,
      "outputs": [
        {
          "output_type": "stream",
          "name": "stdout",
          "text": [
            "\n",
            "\tAugmented Dickey-Fuller Test\n",
            "\n",
            "data:  c1\n",
            "Dickey-Fuller = -4.3891, Lag order = 2, p-value = 0.01\n",
            "alternative hypothesis: stationary\n",
            "\n"
          ]
        }
      ]
    },
    {
      "cell_type": "markdown",
      "metadata": {
        "id": "u7cIvdT_OpM1"
      },
      "source": [
        ">Como ya habíamos logrado estacionariedad en media, no fue necesario revisarlo otra vez. \n",
        "Después de la segunda corrección, se consiguió estacionariedad en varianza ya que se obtuvo un *p valor*=0.01 < *alfa*=0.05 y así se rechazó la hipotésis nula.\n",
        ">>**Clasificación final:** Serie *estacionaria* por media y por varianza.\n",
        "\n",
        ">Ya podemos pasar al modelado de la serie."
      ]
    },
    {
      "cell_type": "markdown",
      "metadata": {
        "id": "aCRhmxnhdV-s"
      },
      "source": [
        "#####PASO 3: MODELADO\n",
        ">Se procede a encontrar el mejor modelo ARMA(p,q) para nuestras series estacionarias."
      ]
    },
    {
      "cell_type": "code",
      "metadata": {
        "colab": {
          "base_uri": "https://localhost:8080/"
        },
        "id": "alQQ2HLMdV-t",
        "outputId": "cd0ef58f-42e8-42a8-e6a2-f9ac9de936b4"
      },
      "source": [
        "%%R\n",
        "      mejor.AIC.ARMA1<-Inf\n",
        "      for(j in 0:10){\n",
        "        for(i in 0:10){\n",
        "          y<-AIC(arima(c1,order=c(j,0,i),method=\"ML\"))\n",
        "          \n",
        "          if(y<mejor.AIC.ARMA1){\n",
        "            mejor.AIC.ARMA1<-y #Guardamos AIC\n",
        "            pq3<-c(j,i) #Guardando el orden\n",
        "          }\n",
        "        }\n",
        "      }\n",
        "      print(pq3)"
      ],
      "execution_count": 119,
      "outputs": [
        {
          "output_type": "stream",
          "name": "stdout",
          "text": [
            "[1] 9 3\n"
          ]
        }
      ]
    },
    {
      "cell_type": "code",
      "metadata": {
        "colab": {
          "base_uri": "https://localhost:8080/"
        },
        "id": "yarKkztrdV-t",
        "outputId": "e92d4932-5c15-4d99-8a7c-a4bf71feb0f4"
      },
      "source": [
        "%%R\n",
        "mejor.AIC.ARMA1 "
      ],
      "execution_count": 120,
      "outputs": [
        {
          "output_type": "stream",
          "name": "stdout",
          "text": [
            "[1] 82.42235\n"
          ]
        }
      ]
    },
    {
      "cell_type": "markdown",
      "metadata": {
        "id": "q4QawujndV-t"
      },
      "source": [
        ">Se encontró que el mejor modelo para la serie es un ARMA(9,3) con un AIC=82.42"
      ]
    },
    {
      "cell_type": "markdown",
      "metadata": {
        "id": "H17n5J3xdV-u"
      },
      "source": [
        "#####PASO 4: PREDICCIONES"
      ]
    },
    {
      "cell_type": "code",
      "metadata": {
        "colab": {
          "base_uri": "https://localhost:8080/",
          "height": 497
        },
        "id": "fzfQeGhhdV-u",
        "outputId": "ee123b9f-0bbb-4926-a4cb-8c7dc5f23f9b"
      },
      "source": [
        "%%R\n",
        "  plot(sdb3,xlim=c(1995,2026),ylim=c(0,7),ylab=\"Ventas en NA en MDD\")\n",
        "  title(\"Predicciones para las ventas de Nintendo en Acción\")\n",
        "  pg3<-predict(arima(sdb3,order=c(9,1,3),method=\"ML\"),n.ahead=10)$pred\n",
        "  abline(h=0)\n",
        "  lines(pg3,col=\"green\",lwd=2)  \n",
        "  abline(t3,col=\"blue\")  \n",
        "  legend(x = \"topright\", legend = c(\"Tendencia\", \"Predicciones\"), col= c(\"blue\", \"green\"),lty=1,lwd=2)\n",
        "  "
      ],
      "execution_count": 121,
      "outputs": [
        {
          "output_type": "display_data",
          "data": {
            "image/png": "[encoded data removed]"
          },
          "metadata": {}
        }
      ]
    },
    {
      "cell_type": "markdown",
      "metadata": {
        "id": "ISMreZv5pi2o"
      },
      "source": [
        ">En la gráfica anterior podemos notar que se estima que va haber un decrecimiento en las ventas de Nintendo para los juegos de Acción cerca del año 2024 y esto indica que se pueden lanzar al mercado juegos de distinto género para compensar esa caída provisional.\n",
        "\n",
        "Como **metrica de evaluación** utilizamos como indicador el *Criterio de Información de Akaike (AIC)* para encontrar el mejor modelo para nuestra serie de tiempo. Este indicador sirve para comparar distintos modelos y seleccionar el que mejor se adapte a nuestros datos. \n",
        "\n",
        "Comenzando el punto **4. Técnicas de Minería**, se realizó un ciclo doble para seleccionar el mejor modelo cuyo AIC fuera el menor y encontramos que este fue el ARIMA(7,0,0) con un AIC  de 83.75 para nuestras predicciones finales."
      ]
    },
    {
      "cell_type": "markdown",
      "metadata": {
        "id": "NlzFpV2czisO"
      },
      "source": [
        "##Conclusión global:\n",
        ">Después de calcular las predicciones para Electronic Arts en el género Deportes y para Nintendo en Plataforma y Acción, llegamos a la conclusión de que el segmento más estable, y al que nos dirigiremos, es desarrollar videojuegos para las consolas de Nintendo en el género de Plataforma. \n",
        "\n",
        ">Con base en nuestro pronóstico, el mercado antes mencionado es el más estable y el que genera mejores ventas, además de que hasta ahorita a la Nintendo Switch le restan 5 años de vida y eso puede ser una gran oportunidad para aquellas desarrolladoras que buscan un mercado potencial duradero."
      ]
    },
    {
      "cell_type": "markdown",
      "metadata": {
        "id": "Hora9EmTL58k"
      },
      "source": [
        "#Conclusiones sobre trabajo a futuro\n",
        ">Ahora que ya hicimos un estudio de cómo se encuentra el mercado, y de cuales son las características que hacen más rentable a un videojuego, como su género y consola en la que fue desarrollado. Para el futuro tenemos como interés profundizar en el videojuego; queremos ver qué características en la jugabilidad y en las historias de los videojuegos son las que generan más enganche con los jugadores. Para esto buscaremos una base de datos con reseñas de videojuegos y dejaremos de lado un poco las ventas para enfocarnos en la opinión de los críticos expertos y asi generar una lista de características que tengan los videojuegos con mayor calidad.\n",
        "\n",
        ">Un área de oportunidad es el segmentar por décadas y hacer un análisis más exhaustivo de cómo se ha comportado el videojuego a lo largo de la historia y de cómo las ventas se han relacionado con los momentos que han vivido las economías de los distintos mercados."
      ]
    }
  ]
}