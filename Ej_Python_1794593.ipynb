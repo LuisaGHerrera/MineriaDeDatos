{
  "nbformat": 4,
  "nbformat_minor": 0,
  "metadata": {
    "colab": {
      "name": "Ej_Python_1794593.ipynb",
      "provenance": [],
      "collapsed_sections": [],
      "authorship_tag": "ABX9TyPTsyZL8C5y6ry+yFN+WzuU",
      "include_colab_link": true
    },
    "kernelspec": {
      "name": "python3",
      "display_name": "Python 3"
    },
    "language_info": {
      "name": "python"
    }
  },
  "cells": [
    {
      "cell_type": "markdown",
      "metadata": {
        "id": "view-in-github",
        "colab_type": "text"
      },
      "source": [
        "<a href=\"https://colab.research.google.com/github/LuisaGHerrera/MineriaDeDatos/blob/main/Ej_Python_1794593.ipynb\" target=\"_parent\"><img src=\"https://colab.research.google.com/assets/colab-badge.svg\" alt=\"Open In Colab\"/></a>"
      ]
    },
    {
      "cell_type": "markdown",
      "metadata": {
        "id": "6xcwJyqf-_v-"
      },
      "source": [
        "# Los siguientes ejercicios son los que se encuentran dentro de los ejemplos del PDF. Al final se encuentran los ejercicios con estructuras básicas de Python de tarea."
      ]
    },
    {
      "cell_type": "markdown",
      "metadata": {
        "id": "zmH6sGyGGkzK"
      },
      "source": [
        "**Ejercicio 1:**Realiza una variable con tu matricula y realiza una secuencia de imprimir con tu nombre y tu matricula concatenados."
      ]
    },
    {
      "cell_type": "code",
      "metadata": {
        "colab": {
          "base_uri": "https://localhost:8080/"
        },
        "id": "F7J9lwjCGqmi",
        "outputId": "69e8c172-e1d2-4dfe-de60-a8a28b48dbae"
      },
      "source": [
        "mat=1794593\n",
        "name=\"Luisa Gutierrez \"\n",
        "\n",
        "print(name + str(mat))"
      ],
      "execution_count": 143,
      "outputs": [
        {
          "output_type": "stream",
          "text": [
            "Luisa Gutierrez 1794593\n"
          ],
          "name": "stdout"
        }
      ]
    },
    {
      "cell_type": "markdown",
      "metadata": {
        "id": "-6o--Ge84J5V"
      },
      "source": [
        "**Ejercicio 2:** Pidiendo el input del usuario pide dos números y crea una pequeña calculadora con los operadores básicos de suma, resta, multiplicación, división, y exponente."
      ]
    },
    {
      "cell_type": "code",
      "metadata": {
        "colab": {
          "base_uri": "https://localhost:8080/",
          "height": 0
        },
        "id": "qItzcDBy4P6_",
        "outputId": "73363819-b078-44ec-f01f-4c1a9cef6981"
      },
      "source": [
        "a = int(input(\"Introduce un número:\" ))\n",
        "b = int(input(\"Introduce otro número: \"))\n",
        "\n",
        "print (\"Suma: \",a,\"+\",b,\"=\", a+b)\n",
        "print(\"Resta: \",a,\"-\",b,\"=\", a-b)\n",
        "print (\"Multiplicación: \",a,\"*\",b,\"=\", a*b)\n",
        "print(\"División: \",a,\"/\",b,\"=\", round(a/b,5))\n",
        "print (\"Exponente: \",a,\"^\",b,\"=\", a**b)"
      ],
      "execution_count": 53,
      "outputs": [
        {
          "output_type": "stream",
          "text": [
            "Introduce un número:2\n",
            "Introduce otro número: 5\n",
            "Suma:  2 + 5 = 7\n",
            "Resta:  2 - 5 = -3\n",
            "Multiplicación:  2 * 5 = 10\n",
            "División:  2 / 5 = 0.4\n",
            "Exponente:  2 ^ 5 = 32\n"
          ],
          "name": "stdout"
        }
      ]
    },
    {
      "cell_type": "markdown",
      "metadata": {
        "id": "agj6rDGS6e02"
      },
      "source": [
        "**Ejercicio 3:** Con loop while o for, realiza una lista de 10 numeros multiplos de 3, y después realiza una función de loop que sume todos los números dentro del arreglo.\n",
        "[Liga para aclarar DUDAS](https://www.aprendeaprogramar.com/cursos/verApartado.php?id=7006)"
      ]
    },
    {
      "cell_type": "code",
      "metadata": {
        "colab": {
          "base_uri": "https://localhost:8080/",
          "height": 0
        },
        "id": "l7ALMTGe6wNQ",
        "outputId": "0bf62962-0fea-4c0a-d087-215dac6c5228"
      },
      "source": [
        "i=1\n",
        "lista=[]  #SE GUARDAN LOS DATOS EN UNA LISTA\n",
        "while i<=10:\n",
        "      a=i*3\n",
        "      lista.append(a)\n",
        "      print(lista[i-1])\n",
        "      i=i+1\n",
        "\n",
        "j=0\n",
        "suma=0\n",
        "while j<=9:\n",
        "    suma=suma+lista[j]\n",
        "    j=j+1\n",
        "\n",
        "print(\"SUMA:\",suma)"
      ],
      "execution_count": 60,
      "outputs": [
        {
          "output_type": "stream",
          "text": [
            "3\n",
            "6\n",
            "9\n",
            "12\n",
            "15\n",
            "18\n",
            "21\n",
            "24\n",
            "27\n",
            "30\n",
            "SUMA: 165\n"
          ],
          "name": "stdout"
        }
      ]
    },
    {
      "cell_type": "markdown",
      "metadata": {
        "id": "_KQGLBt-_zff"
      },
      "source": [
        "**Ejercicio 4:**\n",
        "*   Con una función de if else, revisar si un número es par o es impar.\n",
        "*   Con una función de if else, revisar si un número es primo o no.\n",
        "\n",
        "[Liga para aclarar DUDAS](https://www.mclibre.org/consultar/python/lecciones/python-if-else.html)"
      ]
    },
    {
      "cell_type": "code",
      "metadata": {
        "colab": {
          "base_uri": "https://localhost:8080/",
          "height": 0
        },
        "id": "OuoYg6h8AZdU",
        "outputId": "09aee6ee-7207-4ade-9723-e6dde369da59"
      },
      "source": [
        "a = int(input(\"Introduce un número: \"))\n",
        "if a%2 == 0:\n",
        "  print(\"El numero \",a,\" es par\")\n",
        "else:\n",
        "  print(\"El numero \",a,\" es impar\")\n",
        "\n",
        "\n",
        "for n in range(2, a):\n",
        "        if a % n == 0:\n",
        "            print(\"No es primo\")\n",
        "            break\n",
        "        else:\n",
        "            print(\"Es primo\")"
      ],
      "execution_count": 48,
      "outputs": [
        {
          "output_type": "stream",
          "text": [
            "Introduce un número: 3\n",
            "El numero  3  es impar\n",
            "Es primo\n"
          ],
          "name": "stdout"
        }
      ]
    },
    {
      "cell_type": "markdown",
      "metadata": {
        "id": "Y2nkL6kYIemB"
      },
      "source": [
        "**Ejercicio 5:** Utilizando diferentes clases en python, crea una calculadora con los operadores básicos de suma, resta, multiplicación, división, y exponente. [Liga para DUDAS](https://es.stackoverflow.com/questions/408846/calculadora-con-poo-python)"
      ]
    },
    {
      "cell_type": "code",
      "metadata": {
        "colab": {
          "base_uri": "https://localhost:8080/"
        },
        "id": "Ratgq9RCIh_m",
        "outputId": "ad3eb22b-b4ab-4483-b53d-23a0f951993e"
      },
      "source": [
        "class calculadora():\n",
        "    def __init__(self, num1, num2):\n",
        "        self.num1 = float(num1)\n",
        "        self.num2 = float(num2)\n",
        "\n",
        "    def suma(self):\n",
        "        suma = self.num1+self.num2\n",
        "        print(\"el resultado de la suma es: \", suma)\n",
        "    \n",
        "    def resta(self):\n",
        "        resta = self.num1-self.num2\n",
        "        print(\"el resultado de la resta es: \", resta)\n",
        "\n",
        "    def multiplicacion(self):\n",
        "        multiplicacion = self.num1*self.num2\n",
        "        print(\"el resultado de la multiplicación es: \", multiplicacion)\n",
        "\n",
        "    def division(self):\n",
        "        division = self.num1/self.num2\n",
        "        print(\"el resultado de la divición es: \", division)\n",
        "    \n",
        "    def exponente(self):\n",
        "        exponente = self.num1**self.num2\n",
        "        print(\"el resultado del exponente es: \", exponente)\n",
        "\n",
        "num1 = input(\"ingrese el 1er numero: \")\n",
        "num2 = input(\"ingrese otro numero: \")\n",
        "\n",
        "calculadora = calculadora(num1,num2)\n",
        "calculadora.suma()\n",
        "calculadora.resta()\n",
        "calculadora.multiplicacion()\n",
        "calculadora.division()\n",
        "calculadora.exponente()"
      ],
      "execution_count": 139,
      "outputs": [
        {
          "output_type": "stream",
          "text": [
            "ingrese el 1er numero: 2\n",
            "ingrese otro numero: 3\n",
            "el resultado de la suma es:  5.0\n",
            "el resultado de la resta es:  -1.0\n",
            "el resultado de la multiplicación es:  6.0\n",
            "el resultado de la divición es:  0.6666666666666666\n",
            "el resultado del exponente es:  8.0\n"
          ],
          "name": "stdout"
        }
      ]
    },
    {
      "cell_type": "markdown",
      "metadata": {
        "id": "5BKU-oq0KOy3"
      },
      "source": [
        "# Ejercicios con estructuras básicas de python.\n",
        "**Tuplas**\n",
        "\n",
        "Crear una variable flotante, integer, boleana y compleja e imprimir el tipo de variable que es."
      ]
    },
    {
      "cell_type": "code",
      "metadata": {
        "colab": {
          "base_uri": "https://localhost:8080/",
          "height": 0
        },
        "id": "yo1BgFgxKwC4",
        "outputId": "400b5ff2-560f-4a0a-baca-52b983146287"
      },
      "source": [
        "a=1.354\n",
        "b=2\n",
        "c=True\n",
        "d=10j\n",
        "print(type(a))\n",
        "print(type(b))\n",
        "print(type(c))\n",
        "print(type(d))"
      ],
      "execution_count": 62,
      "outputs": [
        {
          "output_type": "stream",
          "text": [
            "<class 'float'>\n",
            "<class 'int'>\n",
            "<class 'bool'>\n",
            "<class 'complex'>\n"
          ],
          "name": "stdout"
        }
      ]
    },
    {
      "cell_type": "markdown",
      "metadata": {
        "id": "EC70k9RWRwsx"
      },
      "source": [
        "Crear una tupla con valores enteros imprimir el primer y ultimo valor.\n",
        "\n",
        "Añadir 3 valores de string a la tupla.\n",
        "\n",
        "Verificar si una variable existe dentro de la tupla."
      ]
    },
    {
      "cell_type": "code",
      "metadata": {
        "colab": {
          "base_uri": "https://localhost:8080/",
          "height": 0
        },
        "id": "DhENk_-kMQH0",
        "outputId": "66597d46-2f74-472b-babb-a5910aa12fa0"
      },
      "source": [
        "tupla=[1,2,3,4,5,6,7]\n",
        "print(\"1er valor: \",tupla[0],\"    Ultimo valor: \",tupla[6])\n",
        "\n",
        "tupla.append(\"hola\")\n",
        "tupla.append(\"agosto\")\n",
        "tupla.append(\"minería\")\n",
        "print(tupla)\n",
        "\n",
        "a=3  #VARIABLE A BUSCAR DENTRO DE LA TUPLA\n",
        "y=len(tupla)\n",
        "\n",
        "for i in range(0,y):\n",
        "  if a==tupla[i]:\n",
        "    print(\"La variable a =\",a,\" existe dentro de la tupla.\")\n",
        "    break\n",
        "  else:\n",
        "    if i==y:\n",
        "      print(\"La variable a =\",a,\" NO existe dentro de la tupla.\")\n"
      ],
      "execution_count": 88,
      "outputs": [
        {
          "output_type": "stream",
          "text": [
            "1er valor:  1     Ultimo valor:  7\n",
            "[1, 2, 3, 4, 5, 6, 7, 'hola', 'agosto', 'minería']\n",
            "La variable a = 3  existe dentro de la tupla.\n"
          ],
          "name": "stdout"
        }
      ]
    },
    {
      "cell_type": "markdown",
      "metadata": {
        "id": "Ezk9E6IYKWRd"
      },
      "source": [
        "**Listas**\n",
        "\n",
        "Crear una lista con 40 elementos aleatorios enteros.\n",
        "\n",
        "Con una funcion (def) crear dos listas nuevas a partir de la lista creada por numeros aleatorios, en la cual en una esten los elementos pares, y en la otra los elementos impares.\n",
        "\n",
        "Crear dos variables con la longitud de ambas listas nuevas e imprimir las variables.\n",
        "\n",
        "Ordenar los elementos de la lista par de mayor a menor, y los de la lista impar de menor a mayor.  [Liga para DUDAS](https://j2logo.com/python/ordenar-una-lista-en-python/)\n",
        "\n",
        "Utilizar al menos cuatro de las funciones de listas en python en la lista original de 40 elementos. [Liga par DUDAS](https://likegeeks.com/es/funciones-de-listas-de-python/#Cortar_una_lista)"
      ]
    },
    {
      "cell_type": "code",
      "metadata": {
        "colab": {
          "base_uri": "https://localhost:8080/",
          "height": 0
        },
        "id": "iGdb-PUFT4iJ",
        "outputId": "502409d8-f474-4d8c-ca83-ab6d327f6b96"
      },
      "source": [
        "import random as r\n",
        "#CREACION DE LISTA CON 40 ELEMENTOS ALEATORIOS ENTEROS\n",
        "lista=[]\n",
        "for i in range(1,41):\n",
        "  lista.append(r.randint(1,100)) #FUNCION 1: AGREGAR VALORES AL FINAL\n",
        "print(\"Lista ORIGINAL: \",lista,\"\\n\")\n",
        "\n",
        "#SE CREAN 2 LISTAS NUEVAS, UNA DE PARES Y OTRA DE IMPARES\n",
        "def nuevaslistas(lista):\n",
        "  listapar=[]\n",
        "  listaimpar=[]\n",
        "\n",
        "  for i in range(1,41):\n",
        "    if lista[i-1]%2==0:\n",
        "      listapar.append(lista[i-1])\n",
        "    else:\n",
        "      listaimpar.append(lista[i-1])\n",
        "\n",
        "  x=len(listapar)\n",
        "  y=len(listaimpar)\n",
        "\n",
        "  #ORDENAR LISTAS\n",
        "    #PAR MAYOR A MENOR:\n",
        "  listapar.sort(reverse=True)\n",
        "\n",
        "    #IMPAR MENOR A MAYOR\n",
        "  listaimpar.sort()\n",
        "  return \"par=\" + str(x),listapar,\"impar=\"+str(y),listaimpar\n",
        "\n",
        "#LONGITUD DE AMBAS LISTAS ANTES MENCIONADAS\n",
        "print(\"Longitudes y listas\")\n",
        "print(nuevaslistas(lista),\"\\n\")\n",
        "\n",
        "print(\"Funcion 1: Agregar valores al final de la lista \\n\",lista,\"\\n\")\n",
        "\n",
        "lista.sort() #FUNCION 2: ORDENAR\n",
        "print(\"Funcion 2: Ordenar \\n\",lista,\"\\n\")\n",
        "\n",
        "lista.insert(7,50) #FUNCION 3: AGREGAR UN VALOR EN UNA POSICION ESPECIFICA\n",
        "print(\"Funcion 3: Agregar valor \\n\", lista,\"\\n\")\n",
        "\n",
        "lista2=[6,7,8]\n",
        "lista.extend(lista2) #FUNCION 4: AGREGAR OTRA LISTA A LA LISTA ORIGINAL.\n",
        "print(\"Funcion 4: Unir listas \\n\",lista)"
      ],
      "execution_count": 130,
      "outputs": [
        {
          "output_type": "stream",
          "text": [
            "Lista ORIGINAL:  [2, 13, 41, 40, 80, 36, 11, 72, 10, 82, 12, 41, 58, 17, 78, 47, 25, 57, 70, 28, 85, 10, 20, 2, 3, 91, 86, 72, 57, 93, 61, 89, 29, 91, 9, 17, 62, 8, 50, 98] \n",
            "\n",
            "Longitudes y listas\n",
            "('par=21', [98, 86, 82, 80, 78, 72, 72, 70, 62, 58, 50, 40, 36, 28, 20, 12, 10, 10, 8, 2, 2], 'impar=19', [3, 9, 11, 13, 17, 17, 25, 29, 41, 41, 47, 57, 57, 61, 85, 89, 91, 91, 93]) \n",
            "\n",
            "Funcion 1: Agregar valores al final de la lista \n",
            " [2, 13, 41, 40, 80, 36, 11, 72, 10, 82, 12, 41, 58, 17, 78, 47, 25, 57, 70, 28, 85, 10, 20, 2, 3, 91, 86, 72, 57, 93, 61, 89, 29, 91, 9, 17, 62, 8, 50, 98] \n",
            "\n",
            "Funcion 2: Ordenar \n",
            " [2, 2, 3, 8, 9, 10, 10, 11, 12, 13, 17, 17, 20, 25, 28, 29, 36, 40, 41, 41, 47, 50, 57, 57, 58, 61, 62, 70, 72, 72, 78, 80, 82, 85, 86, 89, 91, 91, 93, 98] \n",
            "\n",
            "Funcion 3: Agregar valor \n",
            " [2, 2, 3, 8, 9, 10, 10, 50, 11, 12, 13, 17, 17, 20, 25, 28, 29, 36, 40, 41, 41, 47, 50, 57, 57, 58, 61, 62, 70, 72, 72, 78, 80, 82, 85, 86, 89, 91, 91, 93, 98] \n",
            "\n",
            "Funcion 4: Unir listas \n",
            " [2, 2, 3, 8, 9, 10, 10, 50, 11, 12, 13, 17, 17, 20, 25, 28, 29, 36, 40, 41, 41, 47, 50, 57, 57, 58, 61, 62, 70, 72, 72, 78, 80, 82, 85, 86, 89, 91, 91, 93, 98, 6, 7, 8]\n"
          ],
          "name": "stdout"
        }
      ]
    },
    {
      "cell_type": "markdown",
      "metadata": {
        "id": "t0Zbs_zNKawI"
      },
      "source": [
        "**Diccionarios**\n",
        "\n",
        "Crear un diccionario de 6 personas que conozcas con su primer nombre y su edad.\n",
        "\n",
        "Crear una lista con los valores de la edad y reacomodar la lista de menor a mayor valor. [Liga para DUDAS](https://codigofacilito.com/articulos/diccionarios-python)\n",
        "\n",
        "Usando el diccionario y un loop, imprimir solo los nombres.\n",
        "\n",
        "Añadir dos personas nuevas a tu diccionario, incluyendo edad."
      ]
    },
    {
      "cell_type": "code",
      "metadata": {
        "colab": {
          "base_uri": "https://localhost:8080/",
          "height": 0
        },
        "id": "9x2RRolikAA7",
        "outputId": "c4e73e18-06cd-4b84-f176-e703c98dcd71"
      },
      "source": [
        "diccionario = { 'Andrés': 21, 'Britany':20, 'Sofía':18, 'Lorena': 42,'Luis':10,'Francisco':65}\n",
        "\n",
        "#diccionario.keys() SOLO LOS NOMBRES\n",
        "listaedad=[]\n",
        "for key,value in diccionario.items():\n",
        "  listaedad.append(value)\n",
        "\n",
        "listaedad.sort() #REACOMODAR LA LISTA DE EDADES DE MENOR A MAYOR\n",
        "print(listaedad)\n",
        "\n",
        "for key, value in diccionario.items():\n",
        "  print(key) #IMPRIMIR SOLO LOS NOMBRES\n",
        "\n",
        "diccionario = { 'Andrés': 21, 'Britany':20, 'Sofía':18, 'Lorena': 42,'Luis':10,'Francisco':65,'Luisa':20,'Rubén':21}"
      ],
      "execution_count": 102,
      "outputs": [
        {
          "output_type": "stream",
          "text": [
            "[10, 18, 20, 21, 42, 65]\n",
            "Andrés\n",
            "Britany\n",
            "Sofía\n",
            "Lorena\n",
            "Luis\n",
            "Francisco\n"
          ],
          "name": "stdout"
        }
      ]
    },
    {
      "cell_type": "markdown",
      "metadata": {
        "id": "lvz36wh4Kcva"
      },
      "source": [
        "**Sets**\n",
        "\n",
        "Crea un set con 100 numeros aleatorios enteros del 1 al 25.\n",
        "\n",
        "Comprueba la longitud de tu set.\n",
        "\n",
        "Crea una lista de 5 numeros aleatorios del 1 al 10 y comprueba si cada valor aparece en el set inicial. [Liga para dudas](https:/http://progra.usm.cl/apunte/materia/conjuntos.html/)"
      ]
    },
    {
      "cell_type": "code",
      "metadata": {
        "colab": {
          "base_uri": "https://localhost:8080/",
          "height": 0
        },
        "id": "2fsPZd2O7eR4",
        "outputId": "6ef20238-a029-46ee-ceac-44cf677f0ac1"
      },
      "source": [
        "numeros={0,0} #SE DECLARA EL SET\n",
        "numeros.clear() #SE LIMPIA\n",
        "\n",
        "for i in range(1,101):\n",
        "  numeros.add(r.randint(1,25)) #SE GENERAN Y AGREGAN LOS 100 NUMEROS ALEATORIOS ENTRE 1 Y 25\n",
        "\n",
        "print(\"Set: \",numeros)\n",
        "print(\"longitud del set: \",len(numeros),\"\\n\")\n",
        "\n",
        "lista=[]\n",
        "for i in range(1,6):\n",
        "  lista.append(r.randint(1,10)) #SE GENERA LA LISTA DE 5 NUMEROS ALEATORIOS ENTRE 1 Y 10\n",
        "print(\"La lista de 5 numeros: \",lista,\"\\n\")\n",
        "\n",
        "for i in range(1,6):\n",
        "  if lista[i-1] in numeros: #SE REVISA SI LOS VALORES DE LA LISTA SE ENCUENTRAN EN EL SET\n",
        "    print(\"El numero \", lista[i-1],\" aparece en el set inicial\")\n",
        "  else:\n",
        "    print(\"El numero \", lista[i-1],\" NO aparece en el set inicial\")"
      ],
      "execution_count": 133,
      "outputs": [
        {
          "output_type": "stream",
          "text": [
            "Set:  {1, 2, 3, 4, 5, 6, 7, 8, 9, 11, 12, 13, 14, 15, 16, 17, 18, 19, 20, 21, 22, 23, 24, 25}\n",
            "longitud del set:  24 \n",
            "\n",
            "La lista de 5 numeros:  [4, 2, 9, 10, 3] \n",
            "\n",
            "El numero  4  aparece en el set inicial\n",
            "El numero  2  aparece en el set inicial\n",
            "El numero  9  aparece en el set inicial\n",
            "El numero  10  NO aparece en el set inicial\n",
            "El numero  3  aparece en el set inicial\n"
          ],
          "name": "stdout"
        }
      ]
    }
  ]
}